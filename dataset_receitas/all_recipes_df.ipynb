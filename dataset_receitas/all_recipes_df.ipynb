{
 "cells": [
  {
   "cell_type": "code",
   "execution_count": 1,
   "metadata": {},
   "outputs": [],
   "source": [
    "import pandas as pd"
   ]
  },
  {
   "cell_type": "code",
   "execution_count": 2,
   "metadata": {},
   "outputs": [],
   "source": [
    "file_cybercook = 'receitas_completas_cybercook.csv'\n",
    "file_receiteria = 'receitas_completas_receiteria.csv'"
   ]
  },
  {
   "cell_type": "code",
   "execution_count": 3,
   "metadata": {},
   "outputs": [],
   "source": [
    "df_cybercook = pd.read_csv(file_cybercook)\n",
    "# print(\"Número de linhas Cybercook:\", df_cybercook.shape[0])\n",
    "df_receiteria = pd.read_csv(file_receiteria)\n",
    "# print(\"Número de linhas Receiteria:\", df_receiteria.shape[0])"
   ]
  },
  {
   "cell_type": "code",
   "execution_count": 4,
   "metadata": {},
   "outputs": [],
   "source": [
    "df_cybercook.drop_duplicates(subset='Receita', keep='first', inplace=True)\n",
    "df_receiteria.drop_duplicates(subset='Receita', keep='first', inplace=True)"
   ]
  },
  {
   "cell_type": "code",
   "execution_count": 5,
   "metadata": {},
   "outputs": [
    {
     "name": "stdout",
     "output_type": "stream",
     "text": [
      "Número de linhas: 2595\n"
     ]
    }
   ],
   "source": [
    "df_combined = pd.concat([df_cybercook, df_receiteria], axis=0)\n",
    "print(\"Número de linhas:\", df_combined.shape[0])"
   ]
  },
  {
   "cell_type": "code",
   "execution_count": 6,
   "metadata": {},
   "outputs": [
    {
     "name": "stdout",
     "output_type": "stream",
     "text": [
      "Não há células vazias no DataFrame.\n"
     ]
    }
   ],
   "source": [
    "if df_combined.isnull().values.any():\n",
    "    print(\"Há pelo menos uma célula vazia no DataFrame.\")\n",
    "else:\n",
    "    print(\"Não há células vazias no DataFrame.\")"
   ]
  },
  {
   "cell_type": "code",
   "execution_count": 7,
   "metadata": {},
   "outputs": [
    {
     "name": "stdout",
     "output_type": "stream",
     "text": [
      "                                      Receita     Porções  \\\n",
      "0                              Massa de Pizza   16porções   \n",
      "1                  Receita de Bolo de Cenoura   24porções   \n",
      "2                Bolo de Chocolate Molhadinho   16porções   \n",
      "3                 Como Fazer Bolinho de Chuva   14porções   \n",
      "4                                Bolo de Fubá   20porções   \n",
      "..                                        ...         ...   \n",
      "629                     Filé mignon Quattrino   2 porções   \n",
      "630                           Nutella caseira   5 porções   \n",
      "631                 Geleia de pimenta caseira      250 ml   \n",
      "632                                  Chouriço  15 porções   \n",
      "633  Entrevero de pinhão extremamente gostoso   6 porções   \n",
      "\n",
      "                                          Ingredientes  \\\n",
      "0    ['1/2 kg de farinha de trigo', '1 copo de água...   \n",
      "1    ['1 pitada de sal', '3 unidades de cenoura méd...   \n",
      "2    ['1 xícara (chá) de leite', '3 unidades de ovo...   \n",
      "3    ['1 colher (sopa) de fermento químico em pó', ...   \n",
      "4    ['2 copos de fubá', '1 copo de farinha de trig...   \n",
      "..                                                 ...   \n",
      "629  ['2 filés mignon de 150 gramas cada', '150 gra...   \n",
      "630  ['5 colheres de sopa de chocolate em pó', '1 x...   \n",
      "631  ['4 pimentas-dedo-de-moça sem sementes picadas...   \n",
      "632  ['2 kg de perna de porco', '200 gramas de touc...   \n",
      "633  ['1/2 kg de pinhão cozido e descascado', '1/2 ...   \n",
      "\n",
      "                                            Instruções  \n",
      "0    ['1. Dissolva o fermento na água morna.', '2. ...  \n",
      "1    ['1. Bata no liquidificador os ovos, as cenour...  \n",
      "2    ['1. Bata bem todos os ingredientes no liquidi...  \n",
      "3    ['1. Bata o açúcar com os ovos e junte os dema...  \n",
      "4    ['1. Bater tudo no liquidificador.', '2. Por ú...  \n",
      "..                                                 ...  \n",
      "629  ['Em uma frigideira, refogue a cebola e a mant...  \n",
      "630  ['Em um micro-ondas em potência alta, aqueça a...  \n",
      "631  ['Em uma panela, coloque todos os ingredientes...  \n",
      "632  ['Corte a carne de porco em tirinhas e, em um ...  \n",
      "633  ['Em uma panela grande, refogue todas as carne...  \n",
      "\n",
      "[2595 rows x 4 columns]\n"
     ]
    }
   ],
   "source": [
    "print(df_combined)"
   ]
  },
  {
   "cell_type": "code",
   "execution_count": 8,
   "metadata": {},
   "outputs": [
    {
     "name": "stdout",
     "output_type": "stream",
     "text": [
      "Index(['Receita', 'Porções', 'Ingredientes', 'Instruções'], dtype='object')\n"
     ]
    }
   ],
   "source": [
    "print(df_combined.columns)"
   ]
  },
  {
   "cell_type": "code",
   "execution_count": 9,
   "metadata": {},
   "outputs": [],
   "source": [
    "# não deu certo isso aqui\n",
    "df_combined['Porções'] = df_combined['Porções'].str.replace(r'(\\d+)(porções)', r'\\1 \\2')"
   ]
  },
  {
   "cell_type": "code",
   "execution_count": 10,
   "metadata": {},
   "outputs": [],
   "source": [
    "df_combined.to_csv('todas_receitas.csv', index=False)"
   ]
  },
  {
   "cell_type": "code",
   "execution_count": null,
   "metadata": {},
   "outputs": [],
   "source": [
    "# verificar tipos dos dados\n",
    "# média da qtd de ingredientes"
   ]
  }
 ],
 "metadata": {
  "kernelspec": {
   "display_name": "Python 3",
   "language": "python",
   "name": "python3"
  },
  "language_info": {
   "codemirror_mode": {
    "name": "ipython",
    "version": 3
   },
   "file_extension": ".py",
   "mimetype": "text/x-python",
   "name": "python",
   "nbconvert_exporter": "python",
   "pygments_lexer": "ipython3",
   "version": "3.11.6"
  }
 },
 "nbformat": 4,
 "nbformat_minor": 2
}
