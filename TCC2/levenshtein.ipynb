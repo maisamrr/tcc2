{
 "cells": [
  {
   "cell_type": "code",
   "execution_count": 1,
   "metadata": {},
   "outputs": [
    {
     "name": "stdout",
     "output_type": "stream",
     "text": [
      "Collecting LevenshteinNote: you may need to restart the kernel to use updated packages.\n"
     ]
    },
    {
     "name": "stderr",
     "output_type": "stream",
     "text": [
      "\n",
      "[notice] A new release of pip is available: 24.0 -> 24.1\n",
      "[notice] To update, run: C:\\Users\\Usuario\\AppData\\Local\\Microsoft\\WindowsApps\\PythonSoftwareFoundation.Python.3.11_qbz5n2kfra8p0\\python.exe -m pip install --upgrade pip\n"
     ]
    },
    {
     "name": "stdout",
     "output_type": "stream",
     "text": [
      "\n",
      "  Downloading Levenshtein-0.25.1-cp311-cp311-win_amd64.whl.metadata (3.4 kB)\n",
      "Collecting rapidfuzz<4.0.0,>=3.8.0 (from Levenshtein)\n",
      "  Downloading rapidfuzz-3.9.3-cp311-cp311-win_amd64.whl.metadata (12 kB)\n",
      "Downloading Levenshtein-0.25.1-cp311-cp311-win_amd64.whl (98 kB)\n",
      "   ---------------------------------------- 0.0/98.4 kB ? eta -:--:--\n",
      "   ---- ----------------------------------- 10.2/98.4 kB ? eta -:--:--\n",
      "   ------------------------------------- -- 92.2/98.4 kB 1.1 MB/s eta 0:00:01\n",
      "   ---------------------------------------- 98.4/98.4 kB 1.1 MB/s eta 0:00:00\n",
      "Downloading rapidfuzz-3.9.3-cp311-cp311-win_amd64.whl (1.7 MB)\n",
      "   ---------------------------------------- 0.0/1.7 MB ? eta -:--:--\n",
      "   ----- ---------------------------------- 0.2/1.7 MB 4.6 MB/s eta 0:00:01\n",
      "   -------------- ------------------------- 0.6/1.7 MB 6.1 MB/s eta 0:00:01\n",
      "   --------------------------- ------------ 1.1/1.7 MB 8.0 MB/s eta 0:00:01\n",
      "   ---------------------------------------- 1.7/1.7 MB 9.5 MB/s eta 0:00:00\n",
      "Installing collected packages: rapidfuzz, Levenshtein\n",
      "Successfully installed Levenshtein-0.25.1 rapidfuzz-3.9.3\n"
     ]
    }
   ],
   "source": [
    "pip install Levenshtein"
   ]
  },
  {
   "cell_type": "code",
   "execution_count": 6,
   "metadata": {},
   "outputs": [
    {
     "name": "stdout",
     "output_type": "stream",
     "text": [
      "                        Receita  Porções  \\\n",
      "0                Massa de Pizza       16   \n",
      "1    Receita de Bolo de Cenoura       24   \n",
      "2  Bolo de Chocolate Molhadinho       16   \n",
      "3   Como Fazer Bolinho de Chuva       14   \n",
      "4                  Bolo de Fubá       20   \n",
      "\n",
      "                                        Ingredientes  \\\n",
      "0  {'café óleo soja', 'g farinha trigo', 'ovo águ...   \n",
      "1  {'café óleo soja', 'rasa amido milho', 'chocol...   \n",
      "2  {'café margarina', 'rasa amido milho', 'chocol...   \n",
      "3  {'café fermento químico pó', 'leite soja sem a...   \n",
      "4  {'coco cerca g', 'café fermento químico pó', '...   \n",
      "\n",
      "                                          Instruções  \n",
      "0  {'1. Dissolva o fermento na água morna.', '2. ...  \n",
      "1  {'1. Bata no liquidificador os ovos, as cenour...  \n",
      "2  {'1. Bata bem todos os ingredientes no liquidi...  \n",
      "3  {'1. Bata o açúcar com os ovos e junte os dema...  \n",
      "4  {'1. Bater tudo no liquidificador.', '2. Por ú...  \n"
     ]
    }
   ],
   "source": [
    "import pandas as pd\n",
    "from Levenshtein import distance as levenshtein_distance\n",
    "import ast\n",
    "\n",
    "# Carregar os dados\n",
    "all_ingredients_df = pd.read_csv('all_ingredients.csv')\n",
    "todas_receitas_porcoeslimpas_df = pd.read_csv('todas_receitas_porcoeslimpas.csv')\n",
    "\n",
    "# Converter DataFrame dos ingredientes para uma lista\n",
    "all_ingredients_list = all_ingredients_df['Ingrediente'].tolist()\n",
    "\n",
    "# Função para encontrar o ingrediente mais próximo usando a distância de Levenshtein\n",
    "def find_closest_ingredient(recipe_ingredient, all_ingredients):\n",
    "    closest_ingredient = min(all_ingredients, key=lambda x: levenshtein_distance(recipe_ingredient, x))\n",
    "    return closest_ingredient\n",
    "\n",
    "# Atualizar os ingredientes na lista de receitas\n",
    "for index, row in todas_receitas_porcoeslimpas_df.iterrows():\n",
    "    ingredients = ast.literal_eval(row['Ingredientes'])\n",
    "    updated_ingredients = {find_closest_ingredient(ing, all_ingredients_list) for ing in ingredients}\n",
    "    todas_receitas_porcoeslimpas_df.at[index, 'Ingredientes'] = str(updated_ingredients)\n",
    "\n",
    "# Salvar o DataFrame atualizado em um novo arquivo CSV\n",
    "todas_receitas_porcoeslimpas_df.to_csv('caminho_para_receitas_atualizadas.csv', index=False)\n",
    "\n",
    "# Imprimir o DataFrame atualizado\n",
    "print(todas_receitas_porcoeslimpas_df.head())\n"
   ]
  }
 ],
 "metadata": {
  "kernelspec": {
   "display_name": "Python 3",
   "language": "python",
   "name": "python3"
  },
  "language_info": {
   "codemirror_mode": {
    "name": "ipython",
    "version": 3
   },
   "file_extension": ".py",
   "mimetype": "text/x-python",
   "name": "python",
   "nbconvert_exporter": "python",
   "pygments_lexer": "ipython3",
   "version": "3.11.9"
  }
 },
 "nbformat": 4,
 "nbformat_minor": 2
}
