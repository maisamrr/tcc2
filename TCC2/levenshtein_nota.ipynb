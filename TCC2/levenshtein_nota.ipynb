{
 "cells": [
  {
   "cell_type": "code",
   "execution_count": null,
   "metadata": {},
   "outputs": [],
   "source": [
    "all_ingredients_df = pd.read_excel('all_ingredients.xlsx')\n",
    "nota_fiscal_df = pd.read_excel('nota_fiscal.xlsx')"
   ]
  },
  {
   "cell_type": "code",
   "execution_count": null,
   "metadata": {},
   "outputs": [],
   "source": [
    "def levenshtein_distance(s1, s2):\n",
    "    if len(s1) < len(s2):\n",
    "        return levenshtein_distance(s2, s1)\n",
    "\n",
    "    if len(s2) == 0:\n",
    "        return len(s1)\n",
    "\n",
    "    previous_row = range(len(s2) + 1)\n",
    "    for i, c1 in enumerate(s1):\n",
    "        current_row = [i + 1]\n",
    "        for j, c2 in enumerate(s2):\n",
    "            insertions = previous_row[j + 1] + 1\n",
    "            deletions = current_row[j] + 1\n",
    "            substitutions = previous_row[j] + (c1 != c2)\n",
    "            current_row.append(min(insertions, deletions, substitutions))\n",
    "        previous_row = current_row\n",
    "    \n",
    "    return previous_row[-1]\n",
    "\n",
    "\n",
    "def find_best_match_manual(item, ingredients):\n",
    "    distances = [levenshtein_distance(item, ingredient) for ingredient in ingredients]\n",
    "    min_distance_index = np.argmin(distances)\n",
    "    return ingredients[min_distance_index]"
   ]
  },
  {
   "cell_type": "code",
   "execution_count": null,
   "metadata": {},
   "outputs": [],
   "source": [
    "# Redefinindo as listas para garantir que estão corretamente definidas\n",
    "all_ingredients_list = all_ingredients_df['Ingrediente'].str.lower().tolist()\n",
    "nota_fiscal_list = nota_fiscal_df['Itens'].str.lower().tolist()\n",
    "\n",
    "# Mapear cada item na nota fiscal para o ingrediente mais próximo no conjunto all_ingredients\n",
    "mapped_items_manual = [find_best_match_manual(item, all_ingredients_list) for item in nota_fiscal_list]\n",
    "\n",
    "# Criar um DataFrame para exibir os resultados\n",
    "results_df_manual = pd.DataFrame({\n",
    "    'Nota Fiscal Item': nota_fiscal_list,\n",
    "    'Mapped Ingredient': mapped_items_manual\n",
    "})\n",
    "\n",
    "\n",
    "results_df_manual.head()"
   ]
  }
 ],
 "metadata": {
  "language_info": {
   "name": "python"
  }
 },
 "nbformat": 4,
 "nbformat_minor": 2
}
