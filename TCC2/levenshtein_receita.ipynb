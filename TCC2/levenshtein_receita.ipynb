{
 "cells": [
  {
   "cell_type": "markdown",
   "metadata": {},
   "source": [
    "Instalação da Biblioteca Levenshtein"
   ]
  },
  {
   "cell_type": "code",
   "execution_count": null,
   "metadata": {},
   "outputs": [],
   "source": [
    "pip install ipykernel\n"
   ]
  },
  {
   "cell_type": "code",
   "execution_count": null,
   "metadata": {},
   "outputs": [],
   "source": [
    "pip install pandas"
   ]
  },
  {
   "cell_type": "code",
   "execution_count": 7,
   "metadata": {},
   "outputs": [
    {
     "name": "stdout",
     "output_type": "stream",
     "text": [
      "Requirement already satisfied: Levenshtein in c:\\users\\batat\\appdata\\local\\packages\\pythonsoftwarefoundation.python.3.9_qbz5n2kfra8p0\\localcache\\local-packages\\python39\\site-packages (0.25.1)\n",
      "Requirement already satisfied: rapidfuzz<4.0.0,>=3.8.0 in c:\\users\\batat\\appdata\\local\\packages\\pythonsoftwarefoundation.python.3.9_qbz5n2kfra8p0\\localcache\\local-packages\\python39\\site-packages (from Levenshtein) (3.9.3)\n",
      "Note: you may need to restart the kernel to use updated packages.\n"
     ]
    },
    {
     "name": "stderr",
     "output_type": "stream",
     "text": [
      "WARNING: You are using pip version 22.0.4; however, version 24.1.1 is available.\n",
      "You should consider upgrading via the 'C:\\Users\\Batat\\AppData\\Local\\Microsoft\\WindowsApps\\PythonSoftwareFoundation.Python.3.9_qbz5n2kfra8p0\\python.exe -m pip install --upgrade pip' command.\n"
     ]
    }
   ],
   "source": [
    "pip install Levenshtein"
   ]
  },
  {
   "cell_type": "markdown",
   "metadata": {},
   "source": [
    "Importação de Bibliotecas e Carregamento de Dados"
   ]
  },
  {
   "cell_type": "code",
   "execution_count": 9,
   "metadata": {},
   "outputs": [
    {
     "ename": "ImportError",
     "evalue": "DLL load failed while importing levenshtein_cpp: Não foi possível encontrar o módulo especificado.",
     "output_type": "error",
     "traceback": [
      "\u001b[1;31m---------------------------------------------------------------------------\u001b[0m",
      "\u001b[1;31mImportError\u001b[0m                               Traceback (most recent call last)",
      "Cell \u001b[1;32mIn[9], line 2\u001b[0m\n\u001b[0;32m      1\u001b[0m \u001b[38;5;28;01mimport\u001b[39;00m \u001b[38;5;21;01mpandas\u001b[39;00m \u001b[38;5;28;01mas\u001b[39;00m \u001b[38;5;21;01mpd\u001b[39;00m\n\u001b[1;32m----> 2\u001b[0m \u001b[38;5;28;01mfrom\u001b[39;00m \u001b[38;5;21;01mLevenshtein\u001b[39;00m \u001b[38;5;28;01mimport\u001b[39;00m distance \u001b[38;5;28;01mas\u001b[39;00m levenshtein_distance\n\u001b[0;32m      3\u001b[0m \u001b[38;5;28;01mimport\u001b[39;00m \u001b[38;5;21;01mast\u001b[39;00m\n\u001b[0;32m      5\u001b[0m \u001b[38;5;66;03m# Carregar os dados\u001b[39;00m\n",
      "File \u001b[1;32m~\\AppData\\Local\\Packages\\PythonSoftwareFoundation.Python.3.9_qbz5n2kfra8p0\\LocalCache\\local-packages\\Python39\\site-packages\\Levenshtein\\__init__.py:35\u001b[0m\n\u001b[0;32m     28\u001b[0m \u001b[38;5;28;01mfrom\u001b[39;00m \u001b[38;5;21;01mrapidfuzz\u001b[39;00m\u001b[38;5;21;01m.\u001b[39;00m\u001b[38;5;21;01mdistance\u001b[39;00m \u001b[38;5;28;01mimport\u001b[39;00m (\n\u001b[0;32m     29\u001b[0m     Editops \u001b[38;5;28;01mas\u001b[39;00m _Editops,\n\u001b[0;32m     30\u001b[0m )\n\u001b[0;32m     31\u001b[0m \u001b[38;5;28;01mfrom\u001b[39;00m \u001b[38;5;21;01mrapidfuzz\u001b[39;00m\u001b[38;5;21;01m.\u001b[39;00m\u001b[38;5;21;01mdistance\u001b[39;00m \u001b[38;5;28;01mimport\u001b[39;00m (\n\u001b[0;32m     32\u001b[0m     Opcodes \u001b[38;5;28;01mas\u001b[39;00m _Opcodes,\n\u001b[0;32m     33\u001b[0m )\n\u001b[1;32m---> 35\u001b[0m \u001b[38;5;28;01mfrom\u001b[39;00m \u001b[38;5;21;01mLevenshtein\u001b[39;00m\u001b[38;5;21;01m.\u001b[39;00m\u001b[38;5;21;01mlevenshtein_cpp\u001b[39;00m \u001b[38;5;28;01mimport\u001b[39;00m (\n\u001b[0;32m     36\u001b[0m     median,\n\u001b[0;32m     37\u001b[0m     median_improve,\n\u001b[0;32m     38\u001b[0m     quickmedian,\n\u001b[0;32m     39\u001b[0m     seqratio,\n\u001b[0;32m     40\u001b[0m     setmedian,\n\u001b[0;32m     41\u001b[0m     setratio,\n\u001b[0;32m     42\u001b[0m )\n\u001b[0;32m     44\u001b[0m __all__ \u001b[38;5;241m=\u001b[39m [\n\u001b[0;32m     45\u001b[0m     \u001b[38;5;124m\"\u001b[39m\u001b[38;5;124mquickmedian\u001b[39m\u001b[38;5;124m\"\u001b[39m,\n\u001b[0;32m     46\u001b[0m     \u001b[38;5;124m\"\u001b[39m\u001b[38;5;124mmedian\u001b[39m\u001b[38;5;124m\"\u001b[39m,\n\u001b[1;32m   (...)\u001b[0m\n\u001b[0;32m     61\u001b[0m     \u001b[38;5;124m\"\u001b[39m\u001b[38;5;124minverse\u001b[39m\u001b[38;5;124m\"\u001b[39m,\n\u001b[0;32m     62\u001b[0m ]\n\u001b[0;32m     65\u001b[0m \u001b[38;5;28;01mdef\u001b[39;00m \u001b[38;5;21mdistance\u001b[39m(s1, s2, \u001b[38;5;241m*\u001b[39m, weights\u001b[38;5;241m=\u001b[39m(\u001b[38;5;241m1\u001b[39m, \u001b[38;5;241m1\u001b[39m, \u001b[38;5;241m1\u001b[39m), processor\u001b[38;5;241m=\u001b[39m\u001b[38;5;28;01mNone\u001b[39;00m, score_cutoff\u001b[38;5;241m=\u001b[39m\u001b[38;5;28;01mNone\u001b[39;00m, score_hint\u001b[38;5;241m=\u001b[39m\u001b[38;5;28;01mNone\u001b[39;00m):\n",
      "\u001b[1;31mImportError\u001b[0m: DLL load failed while importing levenshtein_cpp: Não foi possível encontrar o módulo especificado."
     ]
    }
   ],
   "source": [
    "import pandas as pd\n",
    "from Levenshtein import distance as levenshtein_distance\n",
    "import ast\n",
    "\n",
    "# Carregar os dados\n",
    "all_ingredients_df = pd.read_csv('all_ingredients.csv')\n",
    "todas_receitas_porcoeslimpas_df = pd.read_csv('todas_receitas_porcoeslimpas.csv')\n",
    "\n",
    "# Converter DataFrame dos ingredientes para uma lista\n",
    "all_ingredients_list = all_ingredients_df['Ingrediente'].tolist()\n"
   ]
  },
  {
   "cell_type": "markdown",
   "metadata": {},
   "source": [
    " Função para Encontrar o Ingrediente Mais Próximo e Atualizar Ingredientes nas Receitas"
   ]
  },
  {
   "cell_type": "code",
   "execution_count": null,
   "metadata": {},
   "outputs": [],
   "source": [
    "\n",
    "# Função para encontrar o ingrediente mais próximo usando a distância de Levenshtein\n",
    "def find_closest_ingredient(recipe_ingredient, all_ingredients):\n",
    "    closest_ingredient = min(all_ingredients, key=lambda x: levenshtein_distance(recipe_ingredient, x))\n",
    "    return closest_ingredient\n",
    "\n",
    "# Atualizar os ingredientes na lista de receitas\n",
    "for index, row in todas_receitas_porcoeslimpas_df.iterrows():\n",
    "    ingredients = ast.literal_eval(row['Ingredientes'])\n",
    "    updated_ingredients = {find_closest_ingredient(ing, all_ingredients_list) for ing in ingredients}\n",
    "    todas_receitas_porcoeslimpas_df.at[index, 'Ingredientes'] = str(updated_ingredients)\n",
    "\n",
    "# Salvar o DataFrame atualizado em um novo arquivo CSV\n",
    "todas_receitas_porcoeslimpas_df.to_csv('caminho_para_receitas_atualizadas.csv', index=False)\n",
    "\n",
    "# Imprimir o DataFrame atualizado\n",
    "print(todas_receitas_porcoeslimpas_df.head())\n"
   ]
  },
  {
   "cell_type": "markdown",
   "metadata": {},
   "source": [
    "TESTE DE EFICÁCIA"
   ]
  },
  {
   "cell_type": "code",
   "execution_count": null,
   "metadata": {},
   "outputs": [],
   "source": [
    "palavra1 = \"maça\"\n",
    "palavra2 = \"massa\"\n",
    "distancia = levenshtein_distance(palavra1, palavra2)\n",
    "print(f\"A distância de Levenshtein entre '{palavra1}' e '{palavra2}' é {distancia}\")\n",
    "\n",
    "palavra3 = \"ovo\"\n",
    "palavra4 = \"ovos\"\n",
    "distancia = levenshtein_distance(palavra3, palavra4)\n",
    "print(f\"A distância de Levenshtein entre '{palavra3}' e '{palavra4}' é {distancia}\")\n",
    "\n",
    "palavra5 = \"chocolate\"\n",
    "palavra6 = \"chocolatado\"\n",
    "distancia = levenshtein_distance(palavra5, palavra6)\n",
    "print(f\"A distância de Levenshtein entre '{palavra5}' e '{palavra6}' é {distancia}\")\n"
   ]
  }
 ],
 "metadata": {
  "kernelspec": {
   "display_name": "Python 3",
   "language": "python",
   "name": "python3"
  },
  "language_info": {
   "codemirror_mode": {
    "name": "ipython",
    "version": 3
   },
   "file_extension": ".py",
   "mimetype": "text/x-python",
   "name": "python",
   "nbconvert_exporter": "python",
   "pygments_lexer": "ipython3",
   "version": "3.9.13"
  }
 },
 "nbformat": 4,
 "nbformat_minor": 2
}
