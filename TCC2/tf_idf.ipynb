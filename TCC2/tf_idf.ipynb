{
 "cells": [
  {
   "cell_type": "code",
   "execution_count": null,
   "metadata": {},
   "outputs": [],
   "source": [
    "pip install scikit-learn"
   ]
  },
  {
   "cell_type": "code",
   "execution_count": 5,
   "metadata": {},
   "outputs": [],
   "source": [
    "import pandas as pd \n",
    "import numpy as np\n",
    "import sklearn"
   ]
  },
  {
   "cell_type": "code",
   "execution_count": 6,
   "metadata": {},
   "outputs": [],
   "source": [
    "from sklearn.feature_extraction.text import TfidfVectorizer\n",
    "from sklearn.metrics.pairwise import cosine_similarity"
   ]
  },
  {
   "cell_type": "code",
   "execution_count": 7,
   "metadata": {},
   "outputs": [],
   "source": [
    "nota_levenshtein_path = 'nota_levenshtein.csv'\n",
    "receitas_levenshtein_path = 'receitas_levenshtein.csv'\n",
    "\n",
    "nota_levenshtein_df = pd.read_csv(nota_levenshtein_path)\n",
    "receitas_levenshtein_df = pd.read_csv(receitas_levenshtein_path)"
   ]
  },
  {
   "cell_type": "code",
   "execution_count": 9,
   "metadata": {},
   "outputs": [
    {
     "data": {
      "text/plain": [
       "Receita                               Cozido de Legumes com Carne\n",
       "Porções                                                        10\n",
       "Ingredientes    {'tiras cenoura refogada', 'abóbora moranga cu...\n",
       "Name: 1512, dtype: object"
      ]
     },
     "execution_count": 9,
     "metadata": {},
     "output_type": "execute_result"
    }
   ],
   "source": [
    "# Extract ingredients from both dataframes\n",
    "nota_ingredients = nota_levenshtein_df['Mapped Ingredient'].tolist()\n",
    "receitas_ingredients = receitas_levenshtein_df['Ingredientes']\n",
    "\n",
    "# Convert ingredients to a single string for TF-IDF processing\n",
    "nota_ingredients_str = \" \".join(nota_ingredients)\n",
    "receitas_ingredients_str = receitas_ingredients.apply(lambda x: \" \".join(eval(x)))\n",
    "\n",
    "# Create the TF-IDF vectorizer\n",
    "tfidf_vectorizer = TfidfVectorizer()\n",
    "\n",
    "# Fit and transform the ingredients data\n",
    "tfidf_matrix = tfidf_vectorizer.fit_transform([nota_ingredients_str] + receitas_ingredients_str.tolist())\n",
    "\n",
    "# Calculate cosine similarity between the \"nota_levenshtein\" ingredients and each recipe\n",
    "cosine_similarities = cosine_similarity(tfidf_matrix[0:1], tfidf_matrix[1:]).flatten()\n",
    "\n",
    "# Find the recipe with the highest similarity score\n",
    "best_match_index = cosine_similarities.argmax()\n",
    "best_match_recipe = receitas_levenshtein_df.iloc[best_match_index]\n",
    "\n",
    "best_match_recipe[['Receita', 'Porções', 'Ingredientes']]"
   ]
  },
  {
   "cell_type": "code",
   "execution_count": 11,
   "metadata": {},
   "outputs": [
    {
     "data": {
      "text/plain": [
       "['queijo mussarela fatiado',\n",
       " 'banana nanica cortada',\n",
       " 'carne peito frango moída',\n",
       " 'coxão mole cubos médios',\n",
       " 'coxão mole cubos médios',\n",
       " 'água mais água demolho',\n",
       " 'banana nanica cortada',\n",
       " 'canela pó u',\n",
       " 'cerca g carne moída u',\n",
       " 'óleo soja fuba forma',\n",
       " 'massa rolinho primavera',\n",
       " 'café bicarbonato sódio',\n",
       " 'xicara coco seco acucar u',\n",
       " 'berinjela pequena cubos',\n",
       " 'abobrinhas italianas grandes cada',\n",
       " 'mandioca fresca descascada',\n",
       " 'sal chimichurri',\n",
       " 'açúcar confeiteiro peneirado',\n",
       " 'goiabada cortada cubos',\n",
       " 'papel manteiga',\n",
       " 'papel manteiga',\n",
       " 'batata cortada cubos',\n",
       " 'leite coco creme leite',\n",
       " 'espinafre congelado',\n",
       " 'atum sólido natural light',\n",
       " 'garrafas leite coco',\n",
       " 'açúcar confeiteiro peneirado',\n",
       " 'sal pimenta reino moída',\n",
       " 'milho pipoca comum',\n",
       " 'alga nori desidratada',\n",
       " 'azeitona preta graúda',\n",
       " 'abóbora moranga cubos médios',\n",
       " 'fraldinha carne moída',\n",
       " 'páprica doce defumada',\n",
       " 'chimichurri alho pó',\n",
       " 'chimichurri alho pó',\n",
       " 'páprica doce defumada',\n",
       " 'espigas milho cortadas',\n",
       " 'g peito frango cortado iscas ou cubos',\n",
       " 'arroz parboilizado',\n",
       " 'feijão com caldo',\n",
       " 'água para hidratar chia',\n",
       " 'arroz agulhinha',\n",
       " 'azeitonas verdes cortadas']"
      ]
     },
     "execution_count": 11,
     "metadata": {},
     "output_type": "execute_result"
    }
   ],
   "source": [
    "\n",
    "nota_ingredients"
   ]
  },
  {
   "cell_type": "code",
   "execution_count": 22,
   "metadata": {},
   "outputs": [
    {
     "name": "stdout",
     "output_type": "stream",
     "text": [
      "Recipe: Cozido de Legumes com Carne\n",
      "         Ingredient from nota_levenshtein             Ingredient from Recipe\n",
      "0                queijo mussarela fatiado                batata cubos médios\n",
      "1                   banana nanica cortada                   creme leite soja\n",
      "2                carne peito frango moída  linguiça calabresa defumada moída\n",
      "3                 coxão mole cubos médios               vagem pedaços médios\n",
      "4                 coxão mole cubos médios         caldo legume água fervente\n",
      "5                  água mais água demolho           batata doce cubos médios\n",
      "6                   banana nanica cortada                batatas descascadas\n",
      "7                             canela pó u                 acém cubos grandes\n",
      "8                   cerca g carne moída u       abóbora moranga cubos médios\n",
      "9                    óleo soja fuba forma           dekimchipicado finamente\n",
      "10                massa rolinho primavera             tiras cenoura refogada\n",
      "11                 café bicarbonato sódio             abobrinha cubos médios\n",
      "12              xicara coco seco acucar u                                   \n",
      "13                berinjela pequena cubos                                   \n",
      "14      abobrinhas italianas grandes cada                                   \n",
      "15             mandioca fresca descascada                                   \n",
      "16                        sal chimichurri                                   \n",
      "17           açúcar confeiteiro peneirado                                   \n",
      "18                 goiabada cortada cubos                                   \n",
      "19                         papel manteiga                                   \n",
      "20                         papel manteiga                                   \n",
      "21                   batata cortada cubos                                   \n",
      "22                 leite coco creme leite                                   \n",
      "23                    espinafre congelado                                   \n",
      "24              atum sólido natural light                                   \n",
      "25                    garrafas leite coco                                   \n",
      "26           açúcar confeiteiro peneirado                                   \n",
      "27                sal pimenta reino moída                                   \n",
      "28                     milho pipoca comum                                   \n",
      "29                  alga nori desidratada                                   \n",
      "30                  azeitona preta graúda                                   \n",
      "31           abóbora moranga cubos médios                                   \n",
      "32                  fraldinha carne moída                                   \n",
      "33                  páprica doce defumada                                   \n",
      "34                    chimichurri alho pó                                   \n",
      "35                    chimichurri alho pó                                   \n",
      "36                  páprica doce defumada                                   \n",
      "37                 espigas milho cortadas                                   \n",
      "38  g peito frango cortado iscas ou cubos                                   \n",
      "39                     arroz parboilizado                                   \n",
      "40                       feijão com caldo                                   \n",
      "41                água para hidratar chia                                   \n",
      "42                        arroz agulhinha                                   \n",
      "43              azeitonas verdes cortadas                                   \n"
     ]
    }
   ],
   "source": [
    "\n",
    "# Ensure both lists have the same length by padding with empty strings\n",
    "max_len = max(len(nota_ingredients), len(best_recipe_ingredients))\n",
    "nota_ingredients += [''] * (max_len - len(nota_ingredients))\n",
    "best_recipe_ingredients += [''] * (max_len - len(best_recipe_ingredients))\n",
    "\n",
    "# Create a DataFrame to display the results side by side\n",
    "df_comparison = pd.DataFrame({\n",
    "    'Ingredient from nota_levenshtein': nota_ingredients,\n",
    "    'Ingredient from Recipe': best_recipe_ingredients\n",
    "})\n",
    "\n",
    "# Display the recipe name and the comparison table\n",
    "print(f\"Recipe: {best_match_recipe['Receita']}\")\n",
    "print(df_comparison)"
   ]
  }
 ],
 "metadata": {
  "kernelspec": {
   "display_name": "Python 3",
   "language": "python",
   "name": "python3"
  },
  "language_info": {
   "codemirror_mode": {
    "name": "ipython",
    "version": 3
   },
   "file_extension": ".py",
   "mimetype": "text/x-python",
   "name": "python",
   "nbconvert_exporter": "python",
   "pygments_lexer": "ipython3",
   "version": "3.9.13"
  }
 },
 "nbformat": 4,
 "nbformat_minor": 2
}
