{
 "cells": [
  {
   "cell_type": "code",
   "execution_count": null,
   "metadata": {
    "metadata": {}
   },
   "outputs": [],
   "source": [
    "pip install selenium"
   ]
  },
  {
   "cell_type": "code",
   "execution_count": null,
   "metadata": {},
   "outputs": [],
   "source": [
    "pip install selenium-stealth"
   ]
  },
  {
   "cell_type": "code",
   "execution_count": null,
   "metadata": {},
   "outputs": [],
   "source": [
    "pip install requests\n"
   ]
  },
  {
   "cell_type": "code",
   "execution_count": null,
   "metadata": {
    "metadata": {}
   },
   "outputs": [],
   "source": [
    "pip install pandas"
   ]
  },
  {
   "cell_type": "code",
   "execution_count": null,
   "metadata": {},
   "outputs": [],
   "source": [
    "pip install openpyxl"
   ]
  },
  {
   "cell_type": "code",
   "execution_count": 53,
   "metadata": {},
   "outputs": [
    {
     "name": "stdout",
     "output_type": "stream",
     "text": [
      "Requirement already satisfied: 2captcha-python in c:\\users\\batat\\appdata\\local\\packages\\pythonsoftwarefoundation.python.3.9_qbz5n2kfra8p0\\localcache\\local-packages\\python39\\site-packages (1.2.8)\n",
      "Requirement already satisfied: requests in c:\\users\\batat\\appdata\\local\\packages\\pythonsoftwarefoundation.python.3.9_qbz5n2kfra8p0\\localcache\\local-packages\\python39\\site-packages (from 2captcha-python) (2.32.3)\n",
      "Requirement already satisfied: charset-normalizer<4,>=2 in c:\\users\\batat\\appdata\\local\\packages\\pythonsoftwarefoundation.python.3.9_qbz5n2kfra8p0\\localcache\\local-packages\\python39\\site-packages (from requests->2captcha-python) (3.3.2)\n",
      "Requirement already satisfied: idna<4,>=2.5 in c:\\users\\batat\\appdata\\local\\packages\\pythonsoftwarefoundation.python.3.9_qbz5n2kfra8p0\\localcache\\local-packages\\python39\\site-packages (from requests->2captcha-python) (3.7)\n",
      "Requirement already satisfied: certifi>=2017.4.17 in c:\\users\\batat\\appdata\\local\\packages\\pythonsoftwarefoundation.python.3.9_qbz5n2kfra8p0\\localcache\\local-packages\\python39\\site-packages (from requests->2captcha-python) (2024.7.4)\n",
      "Requirement already satisfied: urllib3<3,>=1.21.1 in c:\\users\\batat\\appdata\\local\\packages\\pythonsoftwarefoundation.python.3.9_qbz5n2kfra8p0\\localcache\\local-packages\\python39\\site-packages (from requests->2captcha-python) (2.2.2)\n",
      "Note: you may need to restart the kernel to use updated packages.\n"
     ]
    },
    {
     "name": "stderr",
     "output_type": "stream",
     "text": [
      "WARNING: You are using pip version 22.0.4; however, version 24.2 is available.\n",
      "You should consider upgrading via the 'C:\\Users\\Batat\\AppData\\Local\\Microsoft\\WindowsApps\\PythonSoftwareFoundation.Python.3.9_qbz5n2kfra8p0\\python.exe -m pip install --upgrade pip' command.\n"
     ]
    }
   ],
   "source": [
    "pip install 2captcha-python"
   ]
  },
  {
   "cell_type": "code",
   "execution_count": 1,
   "metadata": {
    "metadata": {}
   },
   "outputs": [],
   "source": [
    "import pandas as pd \n",
    "import time\n",
    "import random\n",
    "from selenium import webdriver\n",
    "from undetected_chromedriver import Chrome\n",
    "from selenium_stealth import stealth\n",
    "from selenium.webdriver.chrome.service import Service\n",
    "from selenium.webdriver.common.by import By\n",
    "from selenium.webdriver.support.ui import WebDriverWait\n",
    "from selenium.webdriver.support import expected_conditions as EC\n",
    "from twocaptcha import TwoCaptcha"
   ]
  },
  {
   "cell_type": "code",
   "execution_count": 15,
   "metadata": {
    "metadata": {}
   },
   "outputs": [
    {
     "name": "stdout",
     "output_type": "stream",
     "text": [
      "CAPTCHA Solved: 0.95WfoBOUuwBEcIAR6Rwk3u-5PX73x9R3TQQlQuEIWHy5_eZSQ5mmJrvyaF5a2h2C2OWa-VTUgWlyxhvJQlbubXvRH0IR115jc_f1o38o4at9_guFVFJfQfCo6PrINtmps4HZFZnHP8aH4C_THOSYkZhcUBT9XD4SFY8STw-TEvvsSXHRzbg_gV-O9IkY79ztEK7Z-d9Efbzerg7EaLzniFLC2UfpAgqRdQnb4iXaPhMI3rBgoiXZblpcGtqiZOT7oOnmVllOzd1hrIg3-zxZLDe3tqfY-bBZPpi9UQCwK4imAn3L8yX5HXuiUf_eBtjgvI_N4guTccY-NKnbzYsgLE4zQGJndNN_GH0f_s5Jv1ICSGiLb-Ulamyh78zwQdhjHCl5q9NzO0wCSsxa8xR-gnoTwQNaMi4rQDftcV-vmwgFOnoccdZghkjlSCpzROItTUUAwRqMA-KEVqklyxmjoA.QSnMVMwCg09U5gGYd43tTQ.88f02a352b5df58885305d84823121716a974eb5b233a8320e8cd8d3f25f5f66\n"
     ]
    }
   ],
   "source": [
    "API_KEY = \"22fcaab83c2393cd133542b3b8e75838\"\n",
    "\n",
    "url = \"https://ww1.receita.fazenda.df.gov.br/DecVisualizador/Nfce/Captcha?Chave=53240617457404002589653180000642659019629963\"\n",
    "\n",
    "siteKey = \"0x4AAAAAAAaOvnbOLak1uio1\"\n",
    "\n",
    "\n",
    "solver = TwoCaptcha(API_KEY)\n",
    "\n",
    "try:\n",
    "    result = solver.turnstile(sitekey=siteKey, url=url)\n",
    "    print(\"CAPTCHA Solved:\", result['code'])\n",
    "except Exception as e:\n",
    "    print(\"Error solving CAPTCHA:\", str(e))\n",
    "    result = None\n",
    "\n",
    "if result:\n",
    "\n",
    "    options = webdriver.ChromeOptions()\n",
    "    service = Service()\n",
    "    driver = webdriver.Chrome(options=options)\n",
    "\n",
    "    driver.get(url)\n",
    "\n",
    "    time.sleep(5)\n",
    "    \n",
    "    driver.execute_script(f'''\n",
    "        var elements = document.querySelectorAll(\"[name='g-recaptcha-response']\");\n",
    "        for (var i = 0; i < elements.length; i++) {{\n",
    "            elements[i].value = \"{result['code']}\";\n",
    "        }}\n",
    "    ''')\n",
    "    \n",
    "    time.sleep(2)\n",
    "\n",
    "    button = driver.find_element(By.CLASS_NAME, \"btn\")\n",
    "    button.get_attribute(\"value\")\n",
    "\n",
    "    button.click()\n",
    "\n",
    "    # Pegando a lista com os produtos\n",
    "    itens_str = driver.find_element(By.XPATH, \"//ul\").text\n",
    "\n",
    "    itens_lista = itens_str.split('\\n')\n",
    "\n",
    "    itens_lista = list(filter(None, itens_lista))\n",
    "\n",
    "# Convertendo a lista em um DataFrame do Pandas\n",
    "    df_all_itens = pd.DataFrame(itens_lista, columns=['Itens'])\n",
    "\n",
    "# Pegando apenas os registros que tem \"Cod: blabla\" (indica que é um produto)\n",
    "    df_just_itens_name = df_all_itens[df_all_itens['Itens'].str.contains(r'\\(Cód: \\w+\\)')].reset_index(drop=True)\n",
    "\n",
    "# Limpeza para remover números e medidas dos nomes\n",
    "    df_just_itens_name['Itens'] = df_just_itens_name['Itens'].str.replace(r' \\(Cód: S\\d+\\)', '', regex=True)\n",
    "    df_just_itens_name['Itens'] = df_just_itens_name['Itens'].str.replace(r'\\d+[Xx]\\d+\\w*|\\d+\\w*|\\d+', '', regex=True)\n",
    "    df_just_itens_name['Itens'] = df_just_itens_name['Itens'].str.strip()\n",
    "\n",
    "# Pegando a primeira palavra de cada registro\n",
    "    df_just_itens_name['Primeira Palavra'] = df_just_itens_name['Itens'].str.split().str[0]\n",
    "\n",
    "# Gerando um excel\n",
    "    df_just_itens_name.to_excel(\"nota_fiscal.xlsx\", index=False)\n"
   ]
  },
  {
   "cell_type": "code",
   "execution_count": 3,
   "metadata": {},
   "outputs": [],
   "source": [
    "\n"
   ]
  },
  {
   "cell_type": "code",
   "execution_count": 23,
   "metadata": {},
   "outputs": [],
   "source": []
  },
  {
   "cell_type": "markdown",
   "metadata": {},
   "source": []
  }
 ],
 "metadata": {
  "kernelspec": {
   "display_name": "Python 3",
   "language": "python",
   "name": "python3"
  },
  "language_info": {
   "codemirror_mode": {
    "name": "ipython",
    "version": 3
   },
   "file_extension": ".py",
   "mimetype": "text/x-python",
   "name": "python",
   "nbconvert_exporter": "python",
   "pygments_lexer": "ipython3",
   "version": "3.9.13"
  }
 },
 "nbformat": 4,
 "nbformat_minor": 2
}
