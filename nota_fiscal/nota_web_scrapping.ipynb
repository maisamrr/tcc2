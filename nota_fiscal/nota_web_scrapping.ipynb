{
 "cells": [
  {
   "cell_type": "code",
   "execution_count": null,
   "metadata": {
    "metadata": {}
   },
   "outputs": [],
   "source": [
    "pip install selenium"
   ]
  },
  {
   "cell_type": "code",
   "execution_count": null,
   "metadata": {
    "metadata": {}
   },
   "outputs": [],
   "source": [
    "pip install pandas"
   ]
  },
  {
   "cell_type": "code",
   "execution_count": 22,
   "metadata": {},
   "outputs": [
    {
     "name": "stdout",
     "output_type": "stream",
     "text": [
      "Collecting openpyxlNote: you may need to restart the kernel to use updated packages.\n",
      "\n",
      "  Downloading openpyxl-3.1.2-py2.py3-none-any.whl.metadata (2.5 kB)\n",
      "Collecting et-xmlfile (from openpyxl)\n",
      "  Downloading et_xmlfile-1.1.0-py3-none-any.whl.metadata (1.8 kB)\n",
      "Downloading openpyxl-3.1.2-py2.py3-none-any.whl (249 kB)\n",
      "   ---------------------------------------- 0.0/250.0 kB ? eta -:--:--\n",
      "   - -------------------------------------- 10.2/250.0 kB ? eta -:--:--\n",
      "   ------ -------------------------------- 41.0/250.0 kB 495.5 kB/s eta 0:00:01\n",
      "   ------------------- -------------------- 122.9/250.0 kB 1.0 MB/s eta 0:00:01\n",
      "   ---------------------------------------- 250.0/250.0 kB 1.5 MB/s eta 0:00:00\n",
      "Downloading et_xmlfile-1.1.0-py3-none-any.whl (4.7 kB)\n",
      "Installing collected packages: et-xmlfile, openpyxl\n",
      "Successfully installed et-xmlfile-1.1.0 openpyxl-3.1.2\n"
     ]
    }
   ],
   "source": [
    "pip install openpyxl"
   ]
  },
  {
   "cell_type": "code",
   "execution_count": 1,
   "metadata": {
    "metadata": {}
   },
   "outputs": [],
   "source": [
    "import pandas as pd \n",
    "import time\n",
    "from selenium import webdriver\n",
    "from selenium.webdriver.chrome.service import Service\n",
    "from selenium.webdriver.common.by import By\n",
    "from selenium.webdriver.support.ui import WebDriverWait\n",
    "from selenium.webdriver.support import expected_conditions as EC"
   ]
  },
  {
   "cell_type": "code",
   "execution_count": 2,
   "metadata": {
    "metadata": {}
   },
   "outputs": [],
   "source": [
    "service = Service()\n",
    "\n",
    "options = webdriver.ChromeOptions()\n",
    "\n",
    "driver = webdriver.Chrome(service = service, options = options)\n",
    "\n",
    "url = \"https://ww1.receita.fazenda.df.gov.br/DecVisualizador/Nfce/qrcode?p=53240400063960015718650040001523101629590693|2|1|1|8358b39453d2da3aadfe438eff48481f401f340b\"\n",
    "\n",
    "driver.get(url)\n"
   ]
  },
  {
   "cell_type": "code",
   "execution_count": 3,
   "metadata": {},
   "outputs": [],
   "source": [
    "\n",
    "driver.switch_to.frame(driver.find_element(By.XPATH, \"//iframe[@title='reCAPTCHA']\"))\n",
    "\n",
    "checkbox = WebDriverWait(driver, 30).until(\n",
    "    EC.element_to_be_clickable((By.CSS_SELECTOR, \".recaptcha-checkbox-border\"))\n",
    ")\n",
    "\n",
    "# Clicando no checkbox do reCAPTCHA\n",
    "checkbox.click()\n",
    "\n",
    "# Esperando até que o checkbox do reCAPTCHA mude para o estado \"check\"\n",
    "WebDriverWait(driver, 100000).until(\n",
    "    EC.presence_of_element_located((By.CSS_SELECTOR, \".recaptcha-checkbox-checked\"))\n",
    ")\n",
    "\n",
    "driver.switch_to.default_content()\n",
    "\n",
    "# Clicando no botão para ir para a página\n",
    "button = driver.find_element(By.CLASS_NAME, \"btn\")\n",
    "button.get_attribute(\"value\")\n",
    "\n",
    "button.click()\n",
    "\n"
   ]
  },
  {
   "cell_type": "code",
   "execution_count": 23,
   "metadata": {},
   "outputs": [],
   "source": [
    "# Pegando a lista com os produtos\n",
    "itens_str = driver.find_element(By.XPATH, \"//ul\").text\n",
    "\n",
    "itens_lista = itens_str.split('\\n')\n",
    "\n",
    "itens_lista = list(filter(None, itens_lista))\n",
    "\n",
    "# Convertendo a lista em um DataFrame do Pandas\n",
    "df_all_itens = pd.DataFrame(itens_lista, columns=['Itens'])\n",
    "\n",
    "# Pegando apenas os registros que tem \"Cod: blabla\" (indica que é um produto)\n",
    "df_just_itens_name = df_all_itens[df_all_itens['Itens'].str.contains(r'\\(Cód: \\w+\\)')].reset_index(drop=True)\n",
    "\n",
    "# Limpeza para remover números e medidas dos nomes\n",
    "df_just_itens_name['Itens'] = df_just_itens_name['Itens'].str.replace(r' \\(Cód: S\\d+\\)', '', regex=True)\n",
    "df_just_itens_name['Itens'] = df_just_itens_name['Itens'].str.replace(r'\\d+[Xx]\\d+\\w*|\\d+\\w*|\\d+', '', regex=True)\n",
    "df_just_itens_name['Itens'] = df_just_itens_name['Itens'].str.strip()\n",
    "\n",
    "# Pegando a primeira palavra de cada registro\n",
    "df_just_itens_name['Primeira Palavra'] = df_just_itens_name['Itens'].str.split().str[0]\n",
    "\n",
    "# Gerando um excel\n",
    "df_just_itens_name.to_excel(\"nota_fiscal.xlsx\", index=False)"
   ]
  },
  {
   "cell_type": "markdown",
   "metadata": {},
   "source": []
  }
 ],
 "metadata": {
  "kernelspec": {
   "display_name": "Python 3",
   "language": "python",
   "name": "python3"
  },
  "language_info": {
   "codemirror_mode": {
    "name": "ipython",
    "version": 3
   },
   "file_extension": ".py",
   "mimetype": "text/x-python",
   "name": "python",
   "nbconvert_exporter": "python",
   "pygments_lexer": "ipython3",
   "version": "3.11.9"
  }
 },
 "nbformat": 4,
 "nbformat_minor": 2
}
