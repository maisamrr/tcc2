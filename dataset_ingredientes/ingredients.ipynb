{
  "cells": [
    {
      "cell_type": "code",
      "execution_count": 28,
      "metadata": {},
      "outputs": [
        {
          "name": "stdout",
          "output_type": "stream",
          "text": [
            "Requirement already satisfied: spellchecker in c:\\users\\usuario\\appdata\\local\\packages\\pythonsoftwarefoundation.python.3.11_qbz5n2kfra8p0\\localcache\\local-packages\\python311\\site-packages (0.4)\n",
            "Requirement already satisfied: setuptools in c:\\program files\\windowsapps\\pythonsoftwarefoundation.python.3.11_3.11.2544.0_x64__qbz5n2kfra8p0\\lib\\site-packages (from spellchecker) (65.5.0)\n",
            "Requirement already satisfied: inexactsearch in c:\\users\\usuario\\appdata\\local\\packages\\pythonsoftwarefoundation.python.3.11_qbz5n2kfra8p0\\localcache\\local-packages\\python311\\site-packages (from spellchecker) (1.0.2)\n",
            "Requirement already satisfied: soundex>=1.0 in c:\\users\\usuario\\appdata\\local\\packages\\pythonsoftwarefoundation.python.3.11_qbz5n2kfra8p0\\localcache\\local-packages\\python311\\site-packages (from inexactsearch->spellchecker) (1.1.3)\n",
            "Requirement already satisfied: silpa-common>=0.3 in c:\\users\\usuario\\appdata\\local\\packages\\pythonsoftwarefoundation.python.3.11_qbz5n2kfra8p0\\localcache\\local-packages\\python311\\site-packages (from inexactsearch->spellchecker) (0.3)\n",
            "Note: you may need to restart the kernel to use updated packages.\n"
          ]
        },
        {
          "name": "stderr",
          "output_type": "stream",
          "text": [
            "\n",
            "[notice] A new release of pip is available: 24.0 -> 24.1\n",
            "[notice] To update, run: C:\\Users\\Usuario\\AppData\\Local\\Microsoft\\WindowsApps\\PythonSoftwareFoundation.Python.3.11_qbz5n2kfra8p0\\python.exe -m pip install --upgrade pip\n"
          ]
        }
      ],
      "source": [
        "\n",
        "pip install spellchecker"
      ]
    },
    {
      "cell_type": "code",
      "execution_count": 29,
      "metadata": {
        "colab": {
          "base_uri": "https://localhost:8080/"
        },
        "id": "6TFw-lLCAPhK",
        "outputId": "4c28a1a5-9337-4013-9c27-89202d1e6b00"
      },
      "outputs": [
        {
          "name": "stderr",
          "output_type": "stream",
          "text": [
            "[nltk_data] Downloading package punkt to\n",
            "[nltk_data]     C:\\Users\\Usuario\\AppData\\Roaming\\nltk_data...\n",
            "[nltk_data]   Package punkt is already up-to-date!\n",
            "[nltk_data] Downloading package wordnet to\n",
            "[nltk_data]     C:\\Users\\Usuario\\AppData\\Roaming\\nltk_data...\n",
            "[nltk_data]   Package wordnet is already up-to-date!\n",
            "[nltk_data] Downloading package omw-1.4 to\n",
            "[nltk_data]     C:\\Users\\Usuario\\AppData\\Roaming\\nltk_data...\n",
            "[nltk_data]   Package omw-1.4 is already up-to-date!\n",
            "[nltk_data] Downloading package stopwords to\n",
            "[nltk_data]     C:\\Users\\Usuario\\AppData\\Roaming\\nltk_data...\n",
            "[nltk_data]   Package stopwords is already up-to-date!\n"
          ]
        },
        {
          "data": {
            "text/plain": [
              "True"
            ]
          },
          "execution_count": 29,
          "metadata": {},
          "output_type": "execute_result"
        }
      ],
      "source": [
        "import re\n",
        "import nltk\n",
        "import pandas as pd\n",
        "from nltk.corpus import stopwords\n",
        "from nltk.stem import WordNetLemmatizer\n",
        "\n",
        "nltk.download('punkt')\n",
        "nltk.download('wordnet')\n",
        "nltk.download('omw-1.4')\n",
        "nltk.download('stopwords')"
      ]
    },
    {
      "cell_type": "code",
      "execution_count": 30,
      "metadata": {
        "id": "8HvAmvIUAPhL"
      },
      "outputs": [],
      "source": [
        "file = 'todas_receitas_porcoeslimpas.csv'\n",
        "df = pd.read_csv(file, index_col=0)"
      ]
    },
    {
      "cell_type": "markdown",
      "metadata": {
        "id": "5VVrmHdWAPhM"
      },
      "source": [
        "<h2>Limpeza</h2>"
      ]
    },
    {
      "cell_type": "code",
      "execution_count": 31,
      "metadata": {
        "id": "9DSntpIvAPhN"
      },
      "outputs": [],
      "source": [
        "def split_ingredients(ingredients_text):\n",
        "    ingredients_text = re.sub(r\"[\\{\\}]\", \"\", ingredients_text).strip()\n",
        "    ingredients_list = [item.strip() for item in ingredients_text.split(',')]\n",
        "    return ingredients_list\n",
        "\n",
        "df['Ingredientes'] = df['Ingredientes'].apply(split_ingredients)"
      ]
    },
    {
      "cell_type": "code",
      "execution_count": 32,
      "metadata": {
        "colab": {
          "base_uri": "https://localhost:8080/",
          "height": 363
        },
        "id": "-OiU3zFqAPhN",
        "outputId": "5e8a04ab-7c61-4ca8-c5bb-8ba5b544efb4"
      },
      "outputs": [
        {
          "data": {
            "text/html": [
              "<div>\n",
              "<style scoped>\n",
              "    .dataframe tbody tr th:only-of-type {\n",
              "        vertical-align: middle;\n",
              "    }\n",
              "\n",
              "    .dataframe tbody tr th {\n",
              "        vertical-align: top;\n",
              "    }\n",
              "\n",
              "    .dataframe thead th {\n",
              "        text-align: right;\n",
              "    }\n",
              "</style>\n",
              "<table border=\"1\" class=\"dataframe\">\n",
              "  <thead>\n",
              "    <tr style=\"text-align: right;\">\n",
              "      <th></th>\n",
              "      <th>Porções</th>\n",
              "      <th>Ingredientes</th>\n",
              "      <th>Instruções</th>\n",
              "    </tr>\n",
              "    <tr>\n",
              "      <th>Receita</th>\n",
              "      <th></th>\n",
              "      <th></th>\n",
              "      <th></th>\n",
              "    </tr>\n",
              "  </thead>\n",
              "  <tbody>\n",
              "    <tr>\n",
              "      <th>Massa de Pizza</th>\n",
              "      <td>16</td>\n",
              "      <td>['1/2 kg de farinha de trigo', '1 copo de água...</td>\n",
              "      <td>{'1. Dissolva o fermento na água morna.', '2. ...</td>\n",
              "    </tr>\n",
              "    <tr>\n",
              "      <th>Receita de Bolo de Cenoura</th>\n",
              "      <td>24</td>\n",
              "      <td>['1 pitada de sal', '3 unidades de cenoura méd...</td>\n",
              "      <td>{'1. Bata no liquidificador os ovos, as cenour...</td>\n",
              "    </tr>\n",
              "    <tr>\n",
              "      <th>Bolo de Chocolate Molhadinho</th>\n",
              "      <td>16</td>\n",
              "      <td>['1 xícara (chá) de leite', '3 unidades de ovo...</td>\n",
              "      <td>{'1. Bata bem todos os ingredientes no liquidi...</td>\n",
              "    </tr>\n",
              "    <tr>\n",
              "      <th>Como Fazer Bolinho de Chuva</th>\n",
              "      <td>14</td>\n",
              "      <td>['1 colher (sopa) de fermento químico em pó', ...</td>\n",
              "      <td>{'1. Bata o açúcar com os ovos e junte os dema...</td>\n",
              "    </tr>\n",
              "    <tr>\n",
              "      <th>Bolo de Fubá</th>\n",
              "      <td>20</td>\n",
              "      <td>['2 copos de fubá', '1 copo de farinha de trig...</td>\n",
              "      <td>{'1. Bater tudo no liquidificador.', '2. Por ú...</td>\n",
              "    </tr>\n",
              "    <tr>\n",
              "      <th>Bolo de Milho</th>\n",
              "      <td>12</td>\n",
              "      <td>['1 lata de milho em conserva', '3 unidades de...</td>\n",
              "      <td>{'1. Bata todos os ingredientes no liquidifica...</td>\n",
              "    </tr>\n",
              "    <tr>\n",
              "      <th>Fricassê de Frango</th>\n",
              "      <td>8</td>\n",
              "      <td>['600 gr de peito de frango cozido e desfiado'...</td>\n",
              "      <td>{'1. Bata no liquidificador o milho e o creme ...</td>\n",
              "    </tr>\n",
              "    <tr>\n",
              "      <th>Bolo de Aniversário</th>\n",
              "      <td>15</td>\n",
              "      <td>['4 unidades de ovo', '2 xícaras (chá) de açúc...</td>\n",
              "      <td>{'1. Na batedeira bata as claras em neve, junt...</td>\n",
              "    </tr>\n",
              "    <tr>\n",
              "      <th>Bolo de Banana</th>\n",
              "      <td>12</td>\n",
              "      <td>['3 unidades de banana nanica', '3 unidades de...</td>\n",
              "      <td>{'1. Em um liquidificador coloque os ovos, a b...</td>\n",
              "    </tr>\n",
              "    <tr>\n",
              "      <th>Panquecas</th>\n",
              "      <td>8</td>\n",
              "      <td>['1 copo de farinha de trigo', '1 copo de leit...</td>\n",
              "      <td>{'1. Bater tudo no liquidificador e deixar des...</td>\n",
              "    </tr>\n",
              "  </tbody>\n",
              "</table>\n",
              "</div>"
            ],
            "text/plain": [
              "                              Porções  \\\n",
              "Receita                                 \n",
              "Massa de Pizza                     16   \n",
              "Receita de Bolo de Cenoura         24   \n",
              "Bolo de Chocolate Molhadinho       16   \n",
              "Como Fazer Bolinho de Chuva        14   \n",
              "Bolo de Fubá                       20   \n",
              "Bolo de Milho                      12   \n",
              "Fricassê de Frango                  8   \n",
              "Bolo de Aniversário                15   \n",
              "Bolo de Banana                     12   \n",
              "Panquecas                           8   \n",
              "\n",
              "                                                                   Ingredientes  \\\n",
              "Receita                                                                           \n",
              "Massa de Pizza                ['1/2 kg de farinha de trigo', '1 copo de água...   \n",
              "Receita de Bolo de Cenoura    ['1 pitada de sal', '3 unidades de cenoura méd...   \n",
              "Bolo de Chocolate Molhadinho  ['1 xícara (chá) de leite', '3 unidades de ovo...   \n",
              "Como Fazer Bolinho de Chuva   ['1 colher (sopa) de fermento químico em pó', ...   \n",
              "Bolo de Fubá                  ['2 copos de fubá', '1 copo de farinha de trig...   \n",
              "Bolo de Milho                 ['1 lata de milho em conserva', '3 unidades de...   \n",
              "Fricassê de Frango            ['600 gr de peito de frango cozido e desfiado'...   \n",
              "Bolo de Aniversário           ['4 unidades de ovo', '2 xícaras (chá) de açúc...   \n",
              "Bolo de Banana                ['3 unidades de banana nanica', '3 unidades de...   \n",
              "Panquecas                     ['1 copo de farinha de trigo', '1 copo de leit...   \n",
              "\n",
              "                                                                     Instruções  \n",
              "Receita                                                                          \n",
              "Massa de Pizza                {'1. Dissolva o fermento na água morna.', '2. ...  \n",
              "Receita de Bolo de Cenoura    {'1. Bata no liquidificador os ovos, as cenour...  \n",
              "Bolo de Chocolate Molhadinho  {'1. Bata bem todos os ingredientes no liquidi...  \n",
              "Como Fazer Bolinho de Chuva   {'1. Bata o açúcar com os ovos e junte os dema...  \n",
              "Bolo de Fubá                  {'1. Bater tudo no liquidificador.', '2. Por ú...  \n",
              "Bolo de Milho                 {'1. Bata todos os ingredientes no liquidifica...  \n",
              "Fricassê de Frango            {'1. Bata no liquidificador o milho e o creme ...  \n",
              "Bolo de Aniversário           {'1. Na batedeira bata as claras em neve, junt...  \n",
              "Bolo de Banana                {'1. Em um liquidificador coloque os ovos, a b...  \n",
              "Panquecas                     {'1. Bater tudo no liquidificador e deixar des...  "
            ]
          },
          "execution_count": 32,
          "metadata": {},
          "output_type": "execute_result"
        }
      ],
      "source": [
        "df.head(10)"
      ]
    },
    {
      "cell_type": "markdown",
      "metadata": {
        "id": "joB42ALCAPhO"
      },
      "source": [
        "Removendo números"
      ]
    },
    {
      "cell_type": "code",
      "execution_count": 33,
      "metadata": {
        "id": "PcPftcXaAPhO"
      },
      "outputs": [],
      "source": [
        "def remove_numbers(ingredients):\n",
        "  return [re.sub(r'\\d+\\s*', '', item).strip() for item in ingredients]\n",
        "\n",
        "df['Ingredientes'] = df['Ingredientes'].apply(remove_numbers)"
      ]
    },
    {
      "cell_type": "code",
      "execution_count": 34,
      "metadata": {
        "colab": {
          "base_uri": "https://localhost:8080/",
          "height": 363
        },
        "id": "axVhD82nAPhO",
        "outputId": "4d0f7421-b88a-479c-802f-558e8237206a"
      },
      "outputs": [
        {
          "data": {
            "text/html": [
              "<div>\n",
              "<style scoped>\n",
              "    .dataframe tbody tr th:only-of-type {\n",
              "        vertical-align: middle;\n",
              "    }\n",
              "\n",
              "    .dataframe tbody tr th {\n",
              "        vertical-align: top;\n",
              "    }\n",
              "\n",
              "    .dataframe thead th {\n",
              "        text-align: right;\n",
              "    }\n",
              "</style>\n",
              "<table border=\"1\" class=\"dataframe\">\n",
              "  <thead>\n",
              "    <tr style=\"text-align: right;\">\n",
              "      <th></th>\n",
              "      <th>Porções</th>\n",
              "      <th>Ingredientes</th>\n",
              "      <th>Instruções</th>\n",
              "    </tr>\n",
              "    <tr>\n",
              "      <th>Receita</th>\n",
              "      <th></th>\n",
              "      <th></th>\n",
              "      <th></th>\n",
              "    </tr>\n",
              "  </thead>\n",
              "  <tbody>\n",
              "    <tr>\n",
              "      <th>Massa de Pizza</th>\n",
              "      <td>16</td>\n",
              "      <td>['/kg de farinha de trigo', 'copo de água', 'g...</td>\n",
              "      <td>{'1. Dissolva o fermento na água morna.', '2. ...</td>\n",
              "    </tr>\n",
              "    <tr>\n",
              "      <th>Receita de Bolo de Cenoura</th>\n",
              "      <td>24</td>\n",
              "      <td>['pitada de sal', 'unidades de cenoura médias ...</td>\n",
              "      <td>{'1. Bata no liquidificador os ovos, as cenour...</td>\n",
              "    </tr>\n",
              "    <tr>\n",
              "      <th>Bolo de Chocolate Molhadinho</th>\n",
              "      <td>16</td>\n",
              "      <td>['xícara (chá) de leite', 'unidades de ovo', '...</td>\n",
              "      <td>{'1. Bata bem todos os ingredientes no liquidi...</td>\n",
              "    </tr>\n",
              "    <tr>\n",
              "      <th>Como Fazer Bolinho de Chuva</th>\n",
              "      <td>14</td>\n",
              "      <td>['colher (sopa) de fermento químico em pó', 'x...</td>\n",
              "      <td>{'1. Bata o açúcar com os ovos e junte os dema...</td>\n",
              "    </tr>\n",
              "    <tr>\n",
              "      <th>Bolo de Fubá</th>\n",
              "      <td>20</td>\n",
              "      <td>['copos de fubá', 'copo de farinha de trigo', ...</td>\n",
              "      <td>{'1. Bater tudo no liquidificador.', '2. Por ú...</td>\n",
              "    </tr>\n",
              "    <tr>\n",
              "      <th>Bolo de Milho</th>\n",
              "      <td>12</td>\n",
              "      <td>['lata de milho em conserva', 'unidades de ovo...</td>\n",
              "      <td>{'1. Bata todos os ingredientes no liquidifica...</td>\n",
              "    </tr>\n",
              "    <tr>\n",
              "      <th>Fricassê de Frango</th>\n",
              "      <td>8</td>\n",
              "      <td>['gr de peito de frango cozido e desfiado', 'c...</td>\n",
              "      <td>{'1. Bata no liquidificador o milho e o creme ...</td>\n",
              "    </tr>\n",
              "    <tr>\n",
              "      <th>Bolo de Aniversário</th>\n",
              "      <td>15</td>\n",
              "      <td>['unidades de ovo', 'xícaras (chá) de açúcar',...</td>\n",
              "      <td>{'1. Na batedeira bata as claras em neve, junt...</td>\n",
              "    </tr>\n",
              "    <tr>\n",
              "      <th>Bolo de Banana</th>\n",
              "      <td>12</td>\n",
              "      <td>['unidades de banana nanica', 'unidades de ovo...</td>\n",
              "      <td>{'1. Em um liquidificador coloque os ovos, a b...</td>\n",
              "    </tr>\n",
              "    <tr>\n",
              "      <th>Panquecas</th>\n",
              "      <td>8</td>\n",
              "      <td>['copo de farinha de trigo', 'copo de leite', ...</td>\n",
              "      <td>{'1. Bater tudo no liquidificador e deixar des...</td>\n",
              "    </tr>\n",
              "  </tbody>\n",
              "</table>\n",
              "</div>"
            ],
            "text/plain": [
              "                              Porções  \\\n",
              "Receita                                 \n",
              "Massa de Pizza                     16   \n",
              "Receita de Bolo de Cenoura         24   \n",
              "Bolo de Chocolate Molhadinho       16   \n",
              "Como Fazer Bolinho de Chuva        14   \n",
              "Bolo de Fubá                       20   \n",
              "Bolo de Milho                      12   \n",
              "Fricassê de Frango                  8   \n",
              "Bolo de Aniversário                15   \n",
              "Bolo de Banana                     12   \n",
              "Panquecas                           8   \n",
              "\n",
              "                                                                   Ingredientes  \\\n",
              "Receita                                                                           \n",
              "Massa de Pizza                ['/kg de farinha de trigo', 'copo de água', 'g...   \n",
              "Receita de Bolo de Cenoura    ['pitada de sal', 'unidades de cenoura médias ...   \n",
              "Bolo de Chocolate Molhadinho  ['xícara (chá) de leite', 'unidades de ovo', '...   \n",
              "Como Fazer Bolinho de Chuva   ['colher (sopa) de fermento químico em pó', 'x...   \n",
              "Bolo de Fubá                  ['copos de fubá', 'copo de farinha de trigo', ...   \n",
              "Bolo de Milho                 ['lata de milho em conserva', 'unidades de ovo...   \n",
              "Fricassê de Frango            ['gr de peito de frango cozido e desfiado', 'c...   \n",
              "Bolo de Aniversário           ['unidades de ovo', 'xícaras (chá) de açúcar',...   \n",
              "Bolo de Banana                ['unidades de banana nanica', 'unidades de ovo...   \n",
              "Panquecas                     ['copo de farinha de trigo', 'copo de leite', ...   \n",
              "\n",
              "                                                                     Instruções  \n",
              "Receita                                                                          \n",
              "Massa de Pizza                {'1. Dissolva o fermento na água morna.', '2. ...  \n",
              "Receita de Bolo de Cenoura    {'1. Bata no liquidificador os ovos, as cenour...  \n",
              "Bolo de Chocolate Molhadinho  {'1. Bata bem todos os ingredientes no liquidi...  \n",
              "Como Fazer Bolinho de Chuva   {'1. Bata o açúcar com os ovos e junte os dema...  \n",
              "Bolo de Fubá                  {'1. Bater tudo no liquidificador.', '2. Por ú...  \n",
              "Bolo de Milho                 {'1. Bata todos os ingredientes no liquidifica...  \n",
              "Fricassê de Frango            {'1. Bata no liquidificador o milho e o creme ...  \n",
              "Bolo de Aniversário           {'1. Na batedeira bata as claras em neve, junt...  \n",
              "Bolo de Banana                {'1. Em um liquidificador coloque os ovos, a b...  \n",
              "Panquecas                     {'1. Bater tudo no liquidificador e deixar des...  "
            ]
          },
          "execution_count": 34,
          "metadata": {},
          "output_type": "execute_result"
        }
      ],
      "source": [
        "df.head(10)"
      ]
    },
    {
      "cell_type": "markdown",
      "metadata": {
        "id": "SClF-yu_APhO"
      },
      "source": [
        "Todas as letras em minúsculas"
      ]
    },
    {
      "cell_type": "code",
      "execution_count": 35,
      "metadata": {
        "id": "gDcAIqB4APhO"
      },
      "outputs": [],
      "source": [
        "def convert_lowercase(ingredients):\n",
        "    return [item.lower().strip() for item in ingredients]\n",
        "\n",
        "df['Ingredientes'] = df['Ingredientes'].apply(convert_lowercase)"
      ]
    },
    {
      "cell_type": "markdown",
      "metadata": {
        "id": "ePnzCFYMybuC"
      },
      "source": [
        "Remover aspas"
      ]
    },
    {
      "cell_type": "code",
      "execution_count": 36,
      "metadata": {
        "id": "yZarTbuZyc7D"
      },
      "outputs": [],
      "source": [
        "def remove_quotes_from_words(ingredient_list):\n",
        "    cleaned_ingredients = []\n",
        "    for ingredients in ingredient_list:\n",
        "        cleaned_ingredients.append([ingredient.strip(\"'\") for ingredient in ingredients])\n",
        "    return cleaned_ingredients\n",
        "\n",
        "df['Ingredientes'] = remove_quotes_from_words(df['Ingredientes'])"
      ]
    },
    {
      "cell_type": "markdown",
      "metadata": {
        "id": "Nuke3WfaAPhO"
      },
      "source": [
        "Remover stopwords"
      ]
    },
    {
      "cell_type": "code",
      "execution_count": 37,
      "metadata": {
        "id": "QqVg0oq8APhO"
      },
      "outputs": [],
      "source": [
        "def clean_stopwords(ingredient_list):\n",
        "    stop_words = set(stopwords.words('portuguese'))\n",
        "    # print(f\"Stopwords carregadas: {stop_words}\")\n",
        "    cleaned_ingredients = []\n",
        "    for ingredient in ingredient_list:\n",
        "        ingredient = ingredient.strip()\n",
        "        words = ingredient.split()\n",
        "        filtered_words = [word for word in words if word.lower() not in stop_words]\n",
        "        cleaned_ingredient = ' '.join(filtered_words)\n",
        "        cleaned_ingredients.append(cleaned_ingredient)\n",
        "    return cleaned_ingredients\n",
        "\n",
        "df['Ingredientes'] = df['Ingredientes'].apply(clean_stopwords)"
      ]
    },
    {
      "cell_type": "code",
      "execution_count": 38,
      "metadata": {
        "colab": {
          "base_uri": "https://localhost:8080/",
          "height": 363
        },
        "id": "hJWBZEHp8pmH",
        "outputId": "66fadca4-57af-49bb-8be4-91ecbe20b722"
      },
      "outputs": [
        {
          "data": {
            "text/html": [
              "<div>\n",
              "<style scoped>\n",
              "    .dataframe tbody tr th:only-of-type {\n",
              "        vertical-align: middle;\n",
              "    }\n",
              "\n",
              "    .dataframe tbody tr th {\n",
              "        vertical-align: top;\n",
              "    }\n",
              "\n",
              "    .dataframe thead th {\n",
              "        text-align: right;\n",
              "    }\n",
              "</style>\n",
              "<table border=\"1\" class=\"dataframe\">\n",
              "  <thead>\n",
              "    <tr style=\"text-align: right;\">\n",
              "      <th></th>\n",
              "      <th>Porções</th>\n",
              "      <th>Ingredientes</th>\n",
              "      <th>Instruções</th>\n",
              "    </tr>\n",
              "    <tr>\n",
              "      <th>Receita</th>\n",
              "      <th></th>\n",
              "      <th></th>\n",
              "      <th></th>\n",
              "    </tr>\n",
              "  </thead>\n",
              "  <tbody>\n",
              "    <tr>\n",
              "      <th>Massa de Pizza</th>\n",
              "      <td>16</td>\n",
              "      <td>[/kg farinha trigo, copo água, gr fermento bio...</td>\n",
              "      <td>{'1. Dissolva o fermento na água morna.', '2. ...</td>\n",
              "    </tr>\n",
              "    <tr>\n",
              "      <th>Receita de Bolo de Cenoura</th>\n",
              "      <td>24</td>\n",
              "      <td>[pitada sal, unidades cenoura médias cruas, xí...</td>\n",
              "      <td>{'1. Bata no liquidificador os ovos, as cenour...</td>\n",
              "    </tr>\n",
              "    <tr>\n",
              "      <th>Bolo de Chocolate Molhadinho</th>\n",
              "      <td>16</td>\n",
              "      <td>[xícara (chá) leite, unidades ovo, colheres (s...</td>\n",
              "      <td>{'1. Bata bem todos os ingredientes no liquidi...</td>\n",
              "    </tr>\n",
              "    <tr>\n",
              "      <th>Como Fazer Bolinho de Chuva</th>\n",
              "      <td>14</td>\n",
              "      <td>[colher (sopa) fermento químico pó, xícara (ch...</td>\n",
              "      <td>{'1. Bata o açúcar com os ovos e junte os dema...</td>\n",
              "    </tr>\n",
              "    <tr>\n",
              "      <th>Bolo de Fubá</th>\n",
              "      <td>20</td>\n",
              "      <td>[copos fubá, copo farinha trigo, copo óleo mil...</td>\n",
              "      <td>{'1. Bater tudo no liquidificador.', '2. Por ú...</td>\n",
              "    </tr>\n",
              "    <tr>\n",
              "      <th>Bolo de Milho</th>\n",
              "      <td>12</td>\n",
              "      <td>[lata milho conserva, unidades ovo, /xícaras (...</td>\n",
              "      <td>{'1. Bata todos os ingredientes no liquidifica...</td>\n",
              "    </tr>\n",
              "    <tr>\n",
              "      <th>Fricassê de Frango</th>\n",
              "      <td>8</td>\n",
              "      <td>[gr peito frango cozido desfiado, colheres (so...</td>\n",
              "      <td>{'1. Bata no liquidificador o milho e o creme ...</td>\n",
              "    </tr>\n",
              "    <tr>\n",
              "      <th>Bolo de Aniversário</th>\n",
              "      <td>15</td>\n",
              "      <td>[unidades ovo, xícaras (chá) açúcar, /copos fa...</td>\n",
              "      <td>{'1. Na batedeira bata as claras em neve, junt...</td>\n",
              "    </tr>\n",
              "    <tr>\n",
              "      <th>Bolo de Banana</th>\n",
              "      <td>12</td>\n",
              "      <td>[unidades banana nanica, unidades ovo, xícaras...</td>\n",
              "      <td>{'1. Em um liquidificador coloque os ovos, a b...</td>\n",
              "    </tr>\n",
              "    <tr>\n",
              "      <th>Panquecas</th>\n",
              "      <td>8</td>\n",
              "      <td>[copo farinha trigo, copo leite, colher (sopa)...</td>\n",
              "      <td>{'1. Bater tudo no liquidificador e deixar des...</td>\n",
              "    </tr>\n",
              "  </tbody>\n",
              "</table>\n",
              "</div>"
            ],
            "text/plain": [
              "                              Porções  \\\n",
              "Receita                                 \n",
              "Massa de Pizza                     16   \n",
              "Receita de Bolo de Cenoura         24   \n",
              "Bolo de Chocolate Molhadinho       16   \n",
              "Como Fazer Bolinho de Chuva        14   \n",
              "Bolo de Fubá                       20   \n",
              "Bolo de Milho                      12   \n",
              "Fricassê de Frango                  8   \n",
              "Bolo de Aniversário                15   \n",
              "Bolo de Banana                     12   \n",
              "Panquecas                           8   \n",
              "\n",
              "                                                                   Ingredientes  \\\n",
              "Receita                                                                           \n",
              "Massa de Pizza                [/kg farinha trigo, copo água, gr fermento bio...   \n",
              "Receita de Bolo de Cenoura    [pitada sal, unidades cenoura médias cruas, xí...   \n",
              "Bolo de Chocolate Molhadinho  [xícara (chá) leite, unidades ovo, colheres (s...   \n",
              "Como Fazer Bolinho de Chuva   [colher (sopa) fermento químico pó, xícara (ch...   \n",
              "Bolo de Fubá                  [copos fubá, copo farinha trigo, copo óleo mil...   \n",
              "Bolo de Milho                 [lata milho conserva, unidades ovo, /xícaras (...   \n",
              "Fricassê de Frango            [gr peito frango cozido desfiado, colheres (so...   \n",
              "Bolo de Aniversário           [unidades ovo, xícaras (chá) açúcar, /copos fa...   \n",
              "Bolo de Banana                [unidades banana nanica, unidades ovo, xícaras...   \n",
              "Panquecas                     [copo farinha trigo, copo leite, colher (sopa)...   \n",
              "\n",
              "                                                                     Instruções  \n",
              "Receita                                                                          \n",
              "Massa de Pizza                {'1. Dissolva o fermento na água morna.', '2. ...  \n",
              "Receita de Bolo de Cenoura    {'1. Bata no liquidificador os ovos, as cenour...  \n",
              "Bolo de Chocolate Molhadinho  {'1. Bata bem todos os ingredientes no liquidi...  \n",
              "Como Fazer Bolinho de Chuva   {'1. Bata o açúcar com os ovos e junte os dema...  \n",
              "Bolo de Fubá                  {'1. Bater tudo no liquidificador.', '2. Por ú...  \n",
              "Bolo de Milho                 {'1. Bata todos os ingredientes no liquidifica...  \n",
              "Fricassê de Frango            {'1. Bata no liquidificador o milho e o creme ...  \n",
              "Bolo de Aniversário           {'1. Na batedeira bata as claras em neve, junt...  \n",
              "Bolo de Banana                {'1. Em um liquidificador coloque os ovos, a b...  \n",
              "Panquecas                     {'1. Bater tudo no liquidificador e deixar des...  "
            ]
          },
          "execution_count": 38,
          "metadata": {},
          "output_type": "execute_result"
        }
      ],
      "source": [
        "df.head(10)"
      ]
    },
    {
      "cell_type": "markdown",
      "metadata": {
        "id": "hiAnjpID7Uhr"
      },
      "source": [
        "Remover medidas e adjetivos"
      ]
    },
    {
      "cell_type": "code",
      "execution_count": 39,
      "metadata": {
        "id": "Tty1g6U47X7Q"
      },
      "outputs": [],
      "source": [
        "def clean_measurements(ingredients):\n",
        "    cleaned_ingredients = []\n",
        "    for item in ingredients:\n",
        "        item = re.sub(r\"\\d+|\\b(acrescente|american|aproximadamente|batida|batidas|batido|bem|bola|bolas|caixa|caixas|caixinha|caixinhas|chá|cheia|cheias|colher|colheres|copo|copos|cozida|cozidas|cozido|cozidos|crua|cruas|decorar|dente|dentes|derretida|derretidas|derretido|derretidos|desfiado|desfiados|eisenbahn|embebido|envelope|envelopes|fatia|fatias|forte|gosto|grosso|grossa|\\bgr\\b|grs|grama|gramas|kg|kgs|lactose|lata|latas|litro|litros|maço|maços|magro|média|médias|ml|mls|mililitro|mililitros|morno|orgânico|orgânicos|pacote|pacotes|peneirada|peneiradas|picado|picados|picada|picadas|picadinha|picadinhas|pincelar|pitada|pitadas|polvilhar|quilo|quilos|raspa|raspas|refogar|rodela|rodelas|sobremesa|sopa|sopas|tablete|tabletes|unidade|unidades|xícara|xícaras|zero|esfarelado|especial|fatiada|fresco|grande|grudar|ipa|liga|lipidios|malte|meio|morna|mãos|padrão|pode|pote|preferência|puro|ralada|ralado|recheio|suficiente|tostado|trituradas|triturado|untar|vidro|branca|brancas|branco|brancos|da|de|do|dar|maduro|maduros|madura|maduras|picadinho|picadinhos|picadinha|picadinhas|casca|s|o|gema|gemas|jasmine|mix|gelada|geladas|gelado|gelados)\\b\", \"\", item)\n",
        "        item = item.replace('-', ' ')\n",
        "        tokens = [word for word in item.split()]\n",
        "        cleaned_ingredients.append(\" \".join(tokens))\n",
        "\n",
        "    return cleaned_ingredients\n",
        "\n",
        "df['Ingredientes'] = df['Ingredientes'].apply(clean_measurements)"
      ]
    },
    {
      "cell_type": "code",
      "execution_count": 40,
      "metadata": {
        "colab": {
          "base_uri": "https://localhost:8080/",
          "height": 363
        },
        "id": "gYjsKWQEAPhP",
        "outputId": "72ed8dde-8e71-4e3e-df1f-7e862c73fc13"
      },
      "outputs": [
        {
          "data": {
            "text/html": [
              "<div>\n",
              "<style scoped>\n",
              "    .dataframe tbody tr th:only-of-type {\n",
              "        vertical-align: middle;\n",
              "    }\n",
              "\n",
              "    .dataframe tbody tr th {\n",
              "        vertical-align: top;\n",
              "    }\n",
              "\n",
              "    .dataframe thead th {\n",
              "        text-align: right;\n",
              "    }\n",
              "</style>\n",
              "<table border=\"1\" class=\"dataframe\">\n",
              "  <thead>\n",
              "    <tr style=\"text-align: right;\">\n",
              "      <th></th>\n",
              "      <th>Porções</th>\n",
              "      <th>Ingredientes</th>\n",
              "      <th>Instruções</th>\n",
              "    </tr>\n",
              "    <tr>\n",
              "      <th>Receita</th>\n",
              "      <th></th>\n",
              "      <th></th>\n",
              "      <th></th>\n",
              "    </tr>\n",
              "  </thead>\n",
              "  <tbody>\n",
              "    <tr>\n",
              "      <th>Massa de Pizza</th>\n",
              "      <td>16</td>\n",
              "      <td>[/ farinha trigo, água, fermento biológico, / ...</td>\n",
              "      <td>{'1. Dissolva o fermento na água morna.', '2. ...</td>\n",
              "    </tr>\n",
              "    <tr>\n",
              "      <th>Receita de Bolo de Cenoura</th>\n",
              "      <td>24</td>\n",
              "      <td>[sal, cenoura, () óleo soja, () fermento quími...</td>\n",
              "      <td>{'1. Bata no liquidificador os ovos, as cenour...</td>\n",
              "    </tr>\n",
              "    <tr>\n",
              "      <th>Bolo de Chocolate Molhadinho</th>\n",
              "      <td>16</td>\n",
              "      <td>[() leite, ovo, () margarina, () açúcar, () ch...</td>\n",
              "      <td>{'1. Bata bem todos os ingredientes no liquidi...</td>\n",
              "    </tr>\n",
              "    <tr>\n",
              "      <th>Como Fazer Bolinho de Chuva</th>\n",
              "      <td>14</td>\n",
              "      <td>[() fermento químico pó, () farinha trigo, ovo...</td>\n",
              "      <td>{'1. Bata o açúcar com os ovos e junte os dema...</td>\n",
              "    </tr>\n",
              "    <tr>\n",
              "      <th>Bolo de Fubá</th>\n",
              "      <td>20</td>\n",
              "      <td>[fubá, farinha trigo, óleo milho, leite, / açú...</td>\n",
              "      <td>{'1. Bater tudo no liquidificador.', '2. Por ú...</td>\n",
              "    </tr>\n",
              "    <tr>\n",
              "      <th>Bolo de Milho</th>\n",
              "      <td>12</td>\n",
              "      <td>[milho conserva, ovo, / () fubá, / () açúcar, ...</td>\n",
              "      <td>{'1. Bata todos os ingredientes no liquidifica...</td>\n",
              "    </tr>\n",
              "    <tr>\n",
              "      <th>Fricassê de Frango</th>\n",
              "      <td>8</td>\n",
              "      <td>[peito frango, () óleo soja, sal, pimenta rein...</td>\n",
              "      <td>{'1. Bata no liquidificador o milho e o creme ...</td>\n",
              "    </tr>\n",
              "    <tr>\n",
              "      <th>Bolo de Aniversário</th>\n",
              "      <td>15</td>\n",
              "      <td>[ovo, () açúcar, / farinha trigo, leite, () ma...</td>\n",
              "      <td>{'1. Na batedeira bata as claras em neve, junt...</td>\n",
              "    </tr>\n",
              "    <tr>\n",
              "      <th>Bolo de Banana</th>\n",
              "      <td>12</td>\n",
              "      <td>[banana nanica, ovo, () farinha trigo, / () am...</td>\n",
              "      <td>{'1. Em um liquidificador coloque os ovos, a b...</td>\n",
              "    </tr>\n",
              "    <tr>\n",
              "      <th>Panquecas</th>\n",
              "      <td>8</td>\n",
              "      <td>[farinha trigo, leite, () amido milho, ovo, sa...</td>\n",
              "      <td>{'1. Bater tudo no liquidificador e deixar des...</td>\n",
              "    </tr>\n",
              "  </tbody>\n",
              "</table>\n",
              "</div>"
            ],
            "text/plain": [
              "                              Porções  \\\n",
              "Receita                                 \n",
              "Massa de Pizza                     16   \n",
              "Receita de Bolo de Cenoura         24   \n",
              "Bolo de Chocolate Molhadinho       16   \n",
              "Como Fazer Bolinho de Chuva        14   \n",
              "Bolo de Fubá                       20   \n",
              "Bolo de Milho                      12   \n",
              "Fricassê de Frango                  8   \n",
              "Bolo de Aniversário                15   \n",
              "Bolo de Banana                     12   \n",
              "Panquecas                           8   \n",
              "\n",
              "                                                                   Ingredientes  \\\n",
              "Receita                                                                           \n",
              "Massa de Pizza                [/ farinha trigo, água, fermento biológico, / ...   \n",
              "Receita de Bolo de Cenoura    [sal, cenoura, () óleo soja, () fermento quími...   \n",
              "Bolo de Chocolate Molhadinho  [() leite, ovo, () margarina, () açúcar, () ch...   \n",
              "Como Fazer Bolinho de Chuva   [() fermento químico pó, () farinha trigo, ovo...   \n",
              "Bolo de Fubá                  [fubá, farinha trigo, óleo milho, leite, / açú...   \n",
              "Bolo de Milho                 [milho conserva, ovo, / () fubá, / () açúcar, ...   \n",
              "Fricassê de Frango            [peito frango, () óleo soja, sal, pimenta rein...   \n",
              "Bolo de Aniversário           [ovo, () açúcar, / farinha trigo, leite, () ma...   \n",
              "Bolo de Banana                [banana nanica, ovo, () farinha trigo, / () am...   \n",
              "Panquecas                     [farinha trigo, leite, () amido milho, ovo, sa...   \n",
              "\n",
              "                                                                     Instruções  \n",
              "Receita                                                                          \n",
              "Massa de Pizza                {'1. Dissolva o fermento na água morna.', '2. ...  \n",
              "Receita de Bolo de Cenoura    {'1. Bata no liquidificador os ovos, as cenour...  \n",
              "Bolo de Chocolate Molhadinho  {'1. Bata bem todos os ingredientes no liquidi...  \n",
              "Como Fazer Bolinho de Chuva   {'1. Bata o açúcar com os ovos e junte os dema...  \n",
              "Bolo de Fubá                  {'1. Bater tudo no liquidificador.', '2. Por ú...  \n",
              "Bolo de Milho                 {'1. Bata todos os ingredientes no liquidifica...  \n",
              "Fricassê de Frango            {'1. Bata no liquidificador o milho e o creme ...  \n",
              "Bolo de Aniversário           {'1. Na batedeira bata as claras em neve, junt...  \n",
              "Bolo de Banana                {'1. Em um liquidificador coloque os ovos, a b...  \n",
              "Panquecas                     {'1. Bater tudo no liquidificador e deixar des...  "
            ]
          },
          "execution_count": 40,
          "metadata": {},
          "output_type": "execute_result"
        }
      ],
      "source": [
        "df.head(10)"
      ]
    },
    {
      "cell_type": "markdown",
      "metadata": {
        "id": "3XlY5QC29oth"
      },
      "source": [
        "Remover caracteres não-alfabéticos"
      ]
    },
    {
      "cell_type": "code",
      "execution_count": 41,
      "metadata": {
        "id": "4UCqJu_y9uBN"
      },
      "outputs": [],
      "source": [
        "def clean_non_alpha(ingredients):\n",
        "    cleaned_ingredients = []\n",
        "    for item in ingredients:\n",
        "        item = re.sub(r'[^a-zA-Zá-úÁ-Ú\\s]', '', item)\n",
        "        item = item.replace('-', ' ')\n",
        "        tokens = [word for word in item.split()]\n",
        "        cleaned_ingredients.append(\" \".join(tokens))\n",
        "\n",
        "    return cleaned_ingredients\n",
        "df['Ingredientes'] = df['Ingredientes'].apply(clean_non_alpha)"
      ]
    },
    {
      "cell_type": "code",
      "execution_count": 42,
      "metadata": {
        "colab": {
          "base_uri": "https://localhost:8080/",
          "height": 363
        },
        "id": "js_uy_oA95yX",
        "outputId": "32b76a56-2471-42b1-b539-886fee58dd55"
      },
      "outputs": [
        {
          "data": {
            "text/html": [
              "<div>\n",
              "<style scoped>\n",
              "    .dataframe tbody tr th:only-of-type {\n",
              "        vertical-align: middle;\n",
              "    }\n",
              "\n",
              "    .dataframe tbody tr th {\n",
              "        vertical-align: top;\n",
              "    }\n",
              "\n",
              "    .dataframe thead th {\n",
              "        text-align: right;\n",
              "    }\n",
              "</style>\n",
              "<table border=\"1\" class=\"dataframe\">\n",
              "  <thead>\n",
              "    <tr style=\"text-align: right;\">\n",
              "      <th></th>\n",
              "      <th>Porções</th>\n",
              "      <th>Ingredientes</th>\n",
              "      <th>Instruções</th>\n",
              "    </tr>\n",
              "    <tr>\n",
              "      <th>Receita</th>\n",
              "      <th></th>\n",
              "      <th></th>\n",
              "      <th></th>\n",
              "    </tr>\n",
              "  </thead>\n",
              "  <tbody>\n",
              "    <tr>\n",
              "      <th>Massa de Pizza</th>\n",
              "      <td>16</td>\n",
              "      <td>[farinha trigo, água, fermento biológico, óleo...</td>\n",
              "      <td>{'1. Dissolva o fermento na água morna.', '2. ...</td>\n",
              "    </tr>\n",
              "    <tr>\n",
              "      <th>Receita de Bolo de Cenoura</th>\n",
              "      <td>24</td>\n",
              "      <td>[sal, cenoura, óleo soja, fermento químico pó,...</td>\n",
              "      <td>{'1. Bata no liquidificador os ovos, as cenour...</td>\n",
              "    </tr>\n",
              "    <tr>\n",
              "      <th>Bolo de Chocolate Molhadinho</th>\n",
              "      <td>16</td>\n",
              "      <td>[leite, ovo, margarina, açúcar, chocolate pó, ...</td>\n",
              "      <td>{'1. Bata bem todos os ingredientes no liquidi...</td>\n",
              "    </tr>\n",
              "    <tr>\n",
              "      <th>Como Fazer Bolinho de Chuva</th>\n",
              "      <td>14</td>\n",
              "      <td>[fermento químico pó, farinha trigo, ovo, leit...</td>\n",
              "      <td>{'1. Bata o açúcar com os ovos e junte os dema...</td>\n",
              "    </tr>\n",
              "    <tr>\n",
              "      <th>Bolo de Fubá</th>\n",
              "      <td>20</td>\n",
              "      <td>[fubá, farinha trigo, óleo milho, leite, açúca...</td>\n",
              "      <td>{'1. Bater tudo no liquidificador.', '2. Por ú...</td>\n",
              "    </tr>\n",
              "    <tr>\n",
              "      <th>Bolo de Milho</th>\n",
              "      <td>12</td>\n",
              "      <td>[milho conserva, ovo, fubá, açúcar, leite, óle...</td>\n",
              "      <td>{'1. Bata todos os ingredientes no liquidifica...</td>\n",
              "    </tr>\n",
              "    <tr>\n",
              "      <th>Fricassê de Frango</th>\n",
              "      <td>8</td>\n",
              "      <td>[peito frango, óleo soja, sal, pimenta reino, ...</td>\n",
              "      <td>{'1. Bata no liquidificador o milho e o creme ...</td>\n",
              "    </tr>\n",
              "    <tr>\n",
              "      <th>Bolo de Aniversário</th>\n",
              "      <td>15</td>\n",
              "      <td>[ovo, açúcar, farinha trigo, leite, manteiga, ...</td>\n",
              "      <td>{'1. Na batedeira bata as claras em neve, junt...</td>\n",
              "    </tr>\n",
              "    <tr>\n",
              "      <th>Bolo de Banana</th>\n",
              "      <td>12</td>\n",
              "      <td>[banana nanica, ovo, farinha trigo, amido milh...</td>\n",
              "      <td>{'1. Em um liquidificador coloque os ovos, a b...</td>\n",
              "    </tr>\n",
              "    <tr>\n",
              "      <th>Panquecas</th>\n",
              "      <td>8</td>\n",
              "      <td>[farinha trigo, leite, amido milho, ovo, sal, ...</td>\n",
              "      <td>{'1. Bater tudo no liquidificador e deixar des...</td>\n",
              "    </tr>\n",
              "  </tbody>\n",
              "</table>\n",
              "</div>"
            ],
            "text/plain": [
              "                              Porções  \\\n",
              "Receita                                 \n",
              "Massa de Pizza                     16   \n",
              "Receita de Bolo de Cenoura         24   \n",
              "Bolo de Chocolate Molhadinho       16   \n",
              "Como Fazer Bolinho de Chuva        14   \n",
              "Bolo de Fubá                       20   \n",
              "Bolo de Milho                      12   \n",
              "Fricassê de Frango                  8   \n",
              "Bolo de Aniversário                15   \n",
              "Bolo de Banana                     12   \n",
              "Panquecas                           8   \n",
              "\n",
              "                                                                   Ingredientes  \\\n",
              "Receita                                                                           \n",
              "Massa de Pizza                [farinha trigo, água, fermento biológico, óleo...   \n",
              "Receita de Bolo de Cenoura    [sal, cenoura, óleo soja, fermento químico pó,...   \n",
              "Bolo de Chocolate Molhadinho  [leite, ovo, margarina, açúcar, chocolate pó, ...   \n",
              "Como Fazer Bolinho de Chuva   [fermento químico pó, farinha trigo, ovo, leit...   \n",
              "Bolo de Fubá                  [fubá, farinha trigo, óleo milho, leite, açúca...   \n",
              "Bolo de Milho                 [milho conserva, ovo, fubá, açúcar, leite, óle...   \n",
              "Fricassê de Frango            [peito frango, óleo soja, sal, pimenta reino, ...   \n",
              "Bolo de Aniversário           [ovo, açúcar, farinha trigo, leite, manteiga, ...   \n",
              "Bolo de Banana                [banana nanica, ovo, farinha trigo, amido milh...   \n",
              "Panquecas                     [farinha trigo, leite, amido milho, ovo, sal, ...   \n",
              "\n",
              "                                                                     Instruções  \n",
              "Receita                                                                          \n",
              "Massa de Pizza                {'1. Dissolva o fermento na água morna.', '2. ...  \n",
              "Receita de Bolo de Cenoura    {'1. Bata no liquidificador os ovos, as cenour...  \n",
              "Bolo de Chocolate Molhadinho  {'1. Bata bem todos os ingredientes no liquidi...  \n",
              "Como Fazer Bolinho de Chuva   {'1. Bata o açúcar com os ovos e junte os dema...  \n",
              "Bolo de Fubá                  {'1. Bater tudo no liquidificador.', '2. Por ú...  \n",
              "Bolo de Milho                 {'1. Bata todos os ingredientes no liquidifica...  \n",
              "Fricassê de Frango            {'1. Bata no liquidificador o milho e o creme ...  \n",
              "Bolo de Aniversário           {'1. Na batedeira bata as claras em neve, junt...  \n",
              "Bolo de Banana                {'1. Em um liquidificador coloque os ovos, a b...  \n",
              "Panquecas                     {'1. Bater tudo no liquidificador e deixar des...  "
            ]
          },
          "execution_count": 42,
          "metadata": {},
          "output_type": "execute_result"
        }
      ],
      "source": [
        "df.head(10)"
      ]
    },
    {
      "cell_type": "markdown",
      "metadata": {
        "id": "FpWhP9Hxyyzs"
      },
      "source": [
        "<h2>Normalização</h2>"
      ]
    },
    {
      "cell_type": "markdown",
      "metadata": {
        "id": "WrvDcCaCy9HT"
      },
      "source": [
        "Correção de ortografia - essa biblioteca só fez cagada"
      ]
    },
    {
      "cell_type": "code",
      "execution_count": 43,
      "metadata": {
        "id": "byXwg_khy_L5"
      },
      "outputs": [],
      "source": [
        "# def correct_spelling(ingredients):\n",
        "#     corrected_words = []\n",
        "#     corrections = {}  # Dicionário para armazenar correções\n",
        "#     for ingredient in ingredients:\n",
        "#         words = ingredient.split()\n",
        "#         corrected_ingredient = []\n",
        "#         for word in words:\n",
        "#             corrected_word = spell.correction(word)\n",
        "#             if corrected_word != word:\n",
        "#                 corrections[word] = corrected_word\n",
        "#             corrected_ingredient.append(corrected_word if corrected_word else word)\n",
        "#         corrected_words.append(\" \".join(corrected_ingredient))\n",
        "#     print(\"Palavras corrigidas:\", corrections)\n",
        "#     return corrected_words\n",
        "\n",
        "# df['Ingredientes'] = df['Ingredientes'].apply(correct_spelling)"
      ]
    },
    {
      "cell_type": "markdown",
      "metadata": {
        "id": "E-Y-x221Bh24"
      },
      "source": [
        "Colocar todas as palavras no singular"
      ]
    },
    {
      "cell_type": "code",
      "execution_count": 44,
      "metadata": {
        "colab": {
          "base_uri": "https://localhost:8080/"
        },
        "id": "00G46G6q2L0-",
        "outputId": "3ce9c32b-378d-4787-a965-6e1d22b542bf"
      },
      "outputs": [
        {
          "ename": "KeyError",
          "evalue": "'Receita'",
          "output_type": "error",
          "traceback": [
            "\u001b[1;31m---------------------------------------------------------------------------\u001b[0m",
            "\u001b[1;31mKeyError\u001b[0m                                  Traceback (most recent call last)",
            "File \u001b[1;32m~\\AppData\\Local\\Packages\\PythonSoftwareFoundation.Python.3.11_qbz5n2kfra8p0\\LocalCache\\local-packages\\Python311\\site-packages\\pandas\\core\\indexes\\base.py:3805\u001b[0m, in \u001b[0;36mIndex.get_loc\u001b[1;34m(self, key)\u001b[0m\n\u001b[0;32m   3804\u001b[0m \u001b[38;5;28;01mtry\u001b[39;00m:\n\u001b[1;32m-> 3805\u001b[0m     \u001b[38;5;28;01mreturn\u001b[39;00m \u001b[38;5;28;43mself\u001b[39;49m\u001b[38;5;241;43m.\u001b[39;49m\u001b[43m_engine\u001b[49m\u001b[38;5;241;43m.\u001b[39;49m\u001b[43mget_loc\u001b[49m\u001b[43m(\u001b[49m\u001b[43mcasted_key\u001b[49m\u001b[43m)\u001b[49m\n\u001b[0;32m   3806\u001b[0m \u001b[38;5;28;01mexcept\u001b[39;00m \u001b[38;5;167;01mKeyError\u001b[39;00m \u001b[38;5;28;01mas\u001b[39;00m err:\n",
            "File \u001b[1;32mindex.pyx:167\u001b[0m, in \u001b[0;36mpandas._libs.index.IndexEngine.get_loc\u001b[1;34m()\u001b[0m\n",
            "File \u001b[1;32mindex.pyx:196\u001b[0m, in \u001b[0;36mpandas._libs.index.IndexEngine.get_loc\u001b[1;34m()\u001b[0m\n",
            "File \u001b[1;32mpandas\\\\_libs\\\\hashtable_class_helper.pxi:7081\u001b[0m, in \u001b[0;36mpandas._libs.hashtable.PyObjectHashTable.get_item\u001b[1;34m()\u001b[0m\n",
            "File \u001b[1;32mpandas\\\\_libs\\\\hashtable_class_helper.pxi:7089\u001b[0m, in \u001b[0;36mpandas._libs.hashtable.PyObjectHashTable.get_item\u001b[1;34m()\u001b[0m\n",
            "\u001b[1;31mKeyError\u001b[0m: 'Receita'",
            "\nThe above exception was the direct cause of the following exception:\n",
            "\u001b[1;31mKeyError\u001b[0m                                  Traceback (most recent call last)",
            "Cell \u001b[1;32mIn[44], line 25\u001b[0m\n\u001b[0;32m     21\u001b[0m         \u001b[38;5;28mprint\u001b[39m(\u001b[38;5;124m\"\u001b[39m\u001b[38;5;124mPalavras modificadas:\u001b[39m\u001b[38;5;124m\"\u001b[39m, modified_words)\n\u001b[0;32m     23\u001b[0m     \u001b[38;5;28;01mreturn\u001b[39;00m singularized_ingredients\n\u001b[1;32m---> 25\u001b[0m df[\u001b[38;5;124m'\u001b[39m\u001b[38;5;124mIngredientes\u001b[39m\u001b[38;5;124m'\u001b[39m] \u001b[38;5;241m=\u001b[39m \u001b[43mdf\u001b[49m\u001b[38;5;241;43m.\u001b[39;49m\u001b[43mapply\u001b[49m\u001b[43m(\u001b[49m\u001b[38;5;28;43;01mlambda\u001b[39;49;00m\u001b[43m \u001b[49m\u001b[43mrow\u001b[49m\u001b[43m:\u001b[49m\u001b[43m \u001b[49m\u001b[43msingularize_ingredients\u001b[49m\u001b[43m(\u001b[49m\u001b[43mrow\u001b[49m\u001b[43m[\u001b[49m\u001b[38;5;124;43m'\u001b[39;49m\u001b[38;5;124;43mIngredientes\u001b[39;49m\u001b[38;5;124;43m'\u001b[39;49m\u001b[43m]\u001b[49m\u001b[43m,\u001b[49m\u001b[43m \u001b[49m\u001b[43mrow\u001b[49m\u001b[43m[\u001b[49m\u001b[38;5;124;43m'\u001b[39;49m\u001b[38;5;124;43mReceita\u001b[39;49m\u001b[38;5;124;43m'\u001b[39;49m\u001b[43m]\u001b[49m\u001b[43m)\u001b[49m\u001b[43m,\u001b[49m\u001b[43m \u001b[49m\u001b[43maxis\u001b[49m\u001b[38;5;241;43m=\u001b[39;49m\u001b[38;5;241;43m1\u001b[39;49m\u001b[43m)\u001b[49m\n\u001b[0;32m     27\u001b[0m \u001b[38;5;66;03m# df['Ingredientes'] = df['Ingredientes'].apply(singularize_ingredients)\u001b[39;00m\n",
            "File \u001b[1;32m~\\AppData\\Local\\Packages\\PythonSoftwareFoundation.Python.3.11_qbz5n2kfra8p0\\LocalCache\\local-packages\\Python311\\site-packages\\pandas\\core\\frame.py:10374\u001b[0m, in \u001b[0;36mDataFrame.apply\u001b[1;34m(self, func, axis, raw, result_type, args, by_row, engine, engine_kwargs, **kwargs)\u001b[0m\n\u001b[0;32m  10360\u001b[0m \u001b[38;5;28;01mfrom\u001b[39;00m \u001b[38;5;21;01mpandas\u001b[39;00m\u001b[38;5;21;01m.\u001b[39;00m\u001b[38;5;21;01mcore\u001b[39;00m\u001b[38;5;21;01m.\u001b[39;00m\u001b[38;5;21;01mapply\u001b[39;00m \u001b[38;5;28;01mimport\u001b[39;00m frame_apply\n\u001b[0;32m  10362\u001b[0m op \u001b[38;5;241m=\u001b[39m frame_apply(\n\u001b[0;32m  10363\u001b[0m     \u001b[38;5;28mself\u001b[39m,\n\u001b[0;32m  10364\u001b[0m     func\u001b[38;5;241m=\u001b[39mfunc,\n\u001b[1;32m   (...)\u001b[0m\n\u001b[0;32m  10372\u001b[0m     kwargs\u001b[38;5;241m=\u001b[39mkwargs,\n\u001b[0;32m  10373\u001b[0m )\n\u001b[1;32m> 10374\u001b[0m \u001b[38;5;28;01mreturn\u001b[39;00m \u001b[43mop\u001b[49m\u001b[38;5;241;43m.\u001b[39;49m\u001b[43mapply\u001b[49m\u001b[43m(\u001b[49m\u001b[43m)\u001b[49m\u001b[38;5;241m.\u001b[39m__finalize__(\u001b[38;5;28mself\u001b[39m, method\u001b[38;5;241m=\u001b[39m\u001b[38;5;124m\"\u001b[39m\u001b[38;5;124mapply\u001b[39m\u001b[38;5;124m\"\u001b[39m)\n",
            "File \u001b[1;32m~\\AppData\\Local\\Packages\\PythonSoftwareFoundation.Python.3.11_qbz5n2kfra8p0\\LocalCache\\local-packages\\Python311\\site-packages\\pandas\\core\\apply.py:916\u001b[0m, in \u001b[0;36mFrameApply.apply\u001b[1;34m(self)\u001b[0m\n\u001b[0;32m    913\u001b[0m \u001b[38;5;28;01melif\u001b[39;00m \u001b[38;5;28mself\u001b[39m\u001b[38;5;241m.\u001b[39mraw:\n\u001b[0;32m    914\u001b[0m     \u001b[38;5;28;01mreturn\u001b[39;00m \u001b[38;5;28mself\u001b[39m\u001b[38;5;241m.\u001b[39mapply_raw(engine\u001b[38;5;241m=\u001b[39m\u001b[38;5;28mself\u001b[39m\u001b[38;5;241m.\u001b[39mengine, engine_kwargs\u001b[38;5;241m=\u001b[39m\u001b[38;5;28mself\u001b[39m\u001b[38;5;241m.\u001b[39mengine_kwargs)\n\u001b[1;32m--> 916\u001b[0m \u001b[38;5;28;01mreturn\u001b[39;00m \u001b[38;5;28;43mself\u001b[39;49m\u001b[38;5;241;43m.\u001b[39;49m\u001b[43mapply_standard\u001b[49m\u001b[43m(\u001b[49m\u001b[43m)\u001b[49m\n",
            "File \u001b[1;32m~\\AppData\\Local\\Packages\\PythonSoftwareFoundation.Python.3.11_qbz5n2kfra8p0\\LocalCache\\local-packages\\Python311\\site-packages\\pandas\\core\\apply.py:1063\u001b[0m, in \u001b[0;36mFrameApply.apply_standard\u001b[1;34m(self)\u001b[0m\n\u001b[0;32m   1061\u001b[0m \u001b[38;5;28;01mdef\u001b[39;00m \u001b[38;5;21mapply_standard\u001b[39m(\u001b[38;5;28mself\u001b[39m):\n\u001b[0;32m   1062\u001b[0m     \u001b[38;5;28;01mif\u001b[39;00m \u001b[38;5;28mself\u001b[39m\u001b[38;5;241m.\u001b[39mengine \u001b[38;5;241m==\u001b[39m \u001b[38;5;124m\"\u001b[39m\u001b[38;5;124mpython\u001b[39m\u001b[38;5;124m\"\u001b[39m:\n\u001b[1;32m-> 1063\u001b[0m         results, res_index \u001b[38;5;241m=\u001b[39m \u001b[38;5;28;43mself\u001b[39;49m\u001b[38;5;241;43m.\u001b[39;49m\u001b[43mapply_series_generator\u001b[49m\u001b[43m(\u001b[49m\u001b[43m)\u001b[49m\n\u001b[0;32m   1064\u001b[0m     \u001b[38;5;28;01melse\u001b[39;00m:\n\u001b[0;32m   1065\u001b[0m         results, res_index \u001b[38;5;241m=\u001b[39m \u001b[38;5;28mself\u001b[39m\u001b[38;5;241m.\u001b[39mapply_series_numba()\n",
            "File \u001b[1;32m~\\AppData\\Local\\Packages\\PythonSoftwareFoundation.Python.3.11_qbz5n2kfra8p0\\LocalCache\\local-packages\\Python311\\site-packages\\pandas\\core\\apply.py:1081\u001b[0m, in \u001b[0;36mFrameApply.apply_series_generator\u001b[1;34m(self)\u001b[0m\n\u001b[0;32m   1078\u001b[0m \u001b[38;5;28;01mwith\u001b[39;00m option_context(\u001b[38;5;124m\"\u001b[39m\u001b[38;5;124mmode.chained_assignment\u001b[39m\u001b[38;5;124m\"\u001b[39m, \u001b[38;5;28;01mNone\u001b[39;00m):\n\u001b[0;32m   1079\u001b[0m     \u001b[38;5;28;01mfor\u001b[39;00m i, v \u001b[38;5;129;01min\u001b[39;00m \u001b[38;5;28menumerate\u001b[39m(series_gen):\n\u001b[0;32m   1080\u001b[0m         \u001b[38;5;66;03m# ignore SettingWithCopy here in case the user mutates\u001b[39;00m\n\u001b[1;32m-> 1081\u001b[0m         results[i] \u001b[38;5;241m=\u001b[39m \u001b[38;5;28;43mself\u001b[39;49m\u001b[38;5;241;43m.\u001b[39;49m\u001b[43mfunc\u001b[49m\u001b[43m(\u001b[49m\u001b[43mv\u001b[49m\u001b[43m,\u001b[49m\u001b[43m \u001b[49m\u001b[38;5;241;43m*\u001b[39;49m\u001b[38;5;28;43mself\u001b[39;49m\u001b[38;5;241;43m.\u001b[39;49m\u001b[43margs\u001b[49m\u001b[43m,\u001b[49m\u001b[43m \u001b[49m\u001b[38;5;241;43m*\u001b[39;49m\u001b[38;5;241;43m*\u001b[39;49m\u001b[38;5;28;43mself\u001b[39;49m\u001b[38;5;241;43m.\u001b[39;49m\u001b[43mkwargs\u001b[49m\u001b[43m)\u001b[49m\n\u001b[0;32m   1082\u001b[0m         \u001b[38;5;28;01mif\u001b[39;00m \u001b[38;5;28misinstance\u001b[39m(results[i], ABCSeries):\n\u001b[0;32m   1083\u001b[0m             \u001b[38;5;66;03m# If we have a view on v, we need to make a copy because\u001b[39;00m\n\u001b[0;32m   1084\u001b[0m             \u001b[38;5;66;03m#  series_generator will swap out the underlying data\u001b[39;00m\n\u001b[0;32m   1085\u001b[0m             results[i] \u001b[38;5;241m=\u001b[39m results[i]\u001b[38;5;241m.\u001b[39mcopy(deep\u001b[38;5;241m=\u001b[39m\u001b[38;5;28;01mFalse\u001b[39;00m)\n",
            "Cell \u001b[1;32mIn[44], line 25\u001b[0m, in \u001b[0;36m<lambda>\u001b[1;34m(row)\u001b[0m\n\u001b[0;32m     21\u001b[0m         \u001b[38;5;28mprint\u001b[39m(\u001b[38;5;124m\"\u001b[39m\u001b[38;5;124mPalavras modificadas:\u001b[39m\u001b[38;5;124m\"\u001b[39m, modified_words)\n\u001b[0;32m     23\u001b[0m     \u001b[38;5;28;01mreturn\u001b[39;00m singularized_ingredients\n\u001b[1;32m---> 25\u001b[0m df[\u001b[38;5;124m'\u001b[39m\u001b[38;5;124mIngredientes\u001b[39m\u001b[38;5;124m'\u001b[39m] \u001b[38;5;241m=\u001b[39m df\u001b[38;5;241m.\u001b[39mapply(\u001b[38;5;28;01mlambda\u001b[39;00m row: singularize_ingredients(row[\u001b[38;5;124m'\u001b[39m\u001b[38;5;124mIngredientes\u001b[39m\u001b[38;5;124m'\u001b[39m], \u001b[43mrow\u001b[49m\u001b[43m[\u001b[49m\u001b[38;5;124;43m'\u001b[39;49m\u001b[38;5;124;43mReceita\u001b[39;49m\u001b[38;5;124;43m'\u001b[39;49m\u001b[43m]\u001b[49m), axis\u001b[38;5;241m=\u001b[39m\u001b[38;5;241m1\u001b[39m)\n\u001b[0;32m     27\u001b[0m \u001b[38;5;66;03m# df['Ingredientes'] = df['Ingredientes'].apply(singularize_ingredients)\u001b[39;00m\n",
            "File \u001b[1;32m~\\AppData\\Local\\Packages\\PythonSoftwareFoundation.Python.3.11_qbz5n2kfra8p0\\LocalCache\\local-packages\\Python311\\site-packages\\pandas\\core\\series.py:1121\u001b[0m, in \u001b[0;36mSeries.__getitem__\u001b[1;34m(self, key)\u001b[0m\n\u001b[0;32m   1118\u001b[0m     \u001b[38;5;28;01mreturn\u001b[39;00m \u001b[38;5;28mself\u001b[39m\u001b[38;5;241m.\u001b[39m_values[key]\n\u001b[0;32m   1120\u001b[0m \u001b[38;5;28;01melif\u001b[39;00m key_is_scalar:\n\u001b[1;32m-> 1121\u001b[0m     \u001b[38;5;28;01mreturn\u001b[39;00m \u001b[38;5;28;43mself\u001b[39;49m\u001b[38;5;241;43m.\u001b[39;49m\u001b[43m_get_value\u001b[49m\u001b[43m(\u001b[49m\u001b[43mkey\u001b[49m\u001b[43m)\u001b[49m\n\u001b[0;32m   1123\u001b[0m \u001b[38;5;66;03m# Convert generator to list before going through hashable part\u001b[39;00m\n\u001b[0;32m   1124\u001b[0m \u001b[38;5;66;03m# (We will iterate through the generator there to check for slices)\u001b[39;00m\n\u001b[0;32m   1125\u001b[0m \u001b[38;5;28;01mif\u001b[39;00m is_iterator(key):\n",
            "File \u001b[1;32m~\\AppData\\Local\\Packages\\PythonSoftwareFoundation.Python.3.11_qbz5n2kfra8p0\\LocalCache\\local-packages\\Python311\\site-packages\\pandas\\core\\series.py:1237\u001b[0m, in \u001b[0;36mSeries._get_value\u001b[1;34m(self, label, takeable)\u001b[0m\n\u001b[0;32m   1234\u001b[0m     \u001b[38;5;28;01mreturn\u001b[39;00m \u001b[38;5;28mself\u001b[39m\u001b[38;5;241m.\u001b[39m_values[label]\n\u001b[0;32m   1236\u001b[0m \u001b[38;5;66;03m# Similar to Index.get_value, but we do not fall back to positional\u001b[39;00m\n\u001b[1;32m-> 1237\u001b[0m loc \u001b[38;5;241m=\u001b[39m \u001b[38;5;28;43mself\u001b[39;49m\u001b[38;5;241;43m.\u001b[39;49m\u001b[43mindex\u001b[49m\u001b[38;5;241;43m.\u001b[39;49m\u001b[43mget_loc\u001b[49m\u001b[43m(\u001b[49m\u001b[43mlabel\u001b[49m\u001b[43m)\u001b[49m\n\u001b[0;32m   1239\u001b[0m \u001b[38;5;28;01mif\u001b[39;00m is_integer(loc):\n\u001b[0;32m   1240\u001b[0m     \u001b[38;5;28;01mreturn\u001b[39;00m \u001b[38;5;28mself\u001b[39m\u001b[38;5;241m.\u001b[39m_values[loc]\n",
            "File \u001b[1;32m~\\AppData\\Local\\Packages\\PythonSoftwareFoundation.Python.3.11_qbz5n2kfra8p0\\LocalCache\\local-packages\\Python311\\site-packages\\pandas\\core\\indexes\\base.py:3812\u001b[0m, in \u001b[0;36mIndex.get_loc\u001b[1;34m(self, key)\u001b[0m\n\u001b[0;32m   3807\u001b[0m     \u001b[38;5;28;01mif\u001b[39;00m \u001b[38;5;28misinstance\u001b[39m(casted_key, \u001b[38;5;28mslice\u001b[39m) \u001b[38;5;129;01mor\u001b[39;00m (\n\u001b[0;32m   3808\u001b[0m         \u001b[38;5;28misinstance\u001b[39m(casted_key, abc\u001b[38;5;241m.\u001b[39mIterable)\n\u001b[0;32m   3809\u001b[0m         \u001b[38;5;129;01mand\u001b[39;00m \u001b[38;5;28many\u001b[39m(\u001b[38;5;28misinstance\u001b[39m(x, \u001b[38;5;28mslice\u001b[39m) \u001b[38;5;28;01mfor\u001b[39;00m x \u001b[38;5;129;01min\u001b[39;00m casted_key)\n\u001b[0;32m   3810\u001b[0m     ):\n\u001b[0;32m   3811\u001b[0m         \u001b[38;5;28;01mraise\u001b[39;00m InvalidIndexError(key)\n\u001b[1;32m-> 3812\u001b[0m     \u001b[38;5;28;01mraise\u001b[39;00m \u001b[38;5;167;01mKeyError\u001b[39;00m(key) \u001b[38;5;28;01mfrom\u001b[39;00m \u001b[38;5;21;01merr\u001b[39;00m\n\u001b[0;32m   3813\u001b[0m \u001b[38;5;28;01mexcept\u001b[39;00m \u001b[38;5;167;01mTypeError\u001b[39;00m:\n\u001b[0;32m   3814\u001b[0m     \u001b[38;5;66;03m# If we have a listlike key, _check_indexing_error will raise\u001b[39;00m\n\u001b[0;32m   3815\u001b[0m     \u001b[38;5;66;03m#  InvalidIndexError. Otherwise we fall through and re-raise\u001b[39;00m\n\u001b[0;32m   3816\u001b[0m     \u001b[38;5;66;03m#  the TypeError.\u001b[39;00m\n\u001b[0;32m   3817\u001b[0m     \u001b[38;5;28mself\u001b[39m\u001b[38;5;241m.\u001b[39m_check_indexing_error(key)\n",
            "\u001b[1;31mKeyError\u001b[0m: 'Receita'"
          ]
        }
      ],
      "source": [
        "lemmatizer = WordNetLemmatizer()\n",
        "\n",
        "def singularize_ingredients(ingredients, recipe_name):\n",
        "    modified_words = {}\n",
        "    singularized_ingredients = []\n",
        "\n",
        "    for ingredient in ingredients:\n",
        "        words = ingredient.split()\n",
        "        singularized_ingredient = []\n",
        "\n",
        "        for word in words:\n",
        "            singular_word = lemmatizer.lemmatize(word, pos='n')\n",
        "            if singular_word != word:\n",
        "                modified_words[word] = singular_word\n",
        "            singularized_ingredient.append(singular_word)\n",
        "\n",
        "        singularized_ingredients.append(\" \".join(singularized_ingredient))\n",
        "\n",
        "    if modified_words:\n",
        "        print(f\"Receita: {recipe_name}\")\n",
        "        print(\"Palavras modificadas:\", modified_words)\n",
        "\n",
        "    return singularized_ingredients\n",
        "\n",
        "df['Ingredientes'] = df.apply(lambda row: singularize_ingredients(row['Ingredientes'], row['Receita']), axis=1)\n",
        "\n",
        "# df['Ingredientes'] = df['Ingredientes'].apply(singularize_ingredients)"
      ]
    },
    {
      "cell_type": "code",
      "execution_count": null,
      "metadata": {
        "colab": {
          "base_uri": "https://localhost:8080/",
          "height": 363
        },
        "id": "460qYokvCIWL",
        "outputId": "abac18a2-2d18-448a-aa1c-ba5591f3d98a"
      },
      "outputs": [
        {
          "data": {
            "text/html": [
              "<div>\n",
              "<style scoped>\n",
              "    .dataframe tbody tr th:only-of-type {\n",
              "        vertical-align: middle;\n",
              "    }\n",
              "\n",
              "    .dataframe tbody tr th {\n",
              "        vertical-align: top;\n",
              "    }\n",
              "\n",
              "    .dataframe thead th {\n",
              "        text-align: right;\n",
              "    }\n",
              "</style>\n",
              "<table border=\"1\" class=\"dataframe\">\n",
              "  <thead>\n",
              "    <tr style=\"text-align: right;\">\n",
              "      <th></th>\n",
              "      <th>Receita</th>\n",
              "      <th>Ingredientes</th>\n",
              "    </tr>\n",
              "  </thead>\n",
              "  <tbody>\n",
              "    <tr>\n",
              "      <th>0</th>\n",
              "      <td>Massa de Pizza</td>\n",
              "      <td>[farinha trigo, água, fermento biológico, óleo...</td>\n",
              "    </tr>\n",
              "    <tr>\n",
              "      <th>1</th>\n",
              "      <td>Receita de Bolo de Cenoura</td>\n",
              "      <td>[sal, cenoura, óleo soja, fermento químico pó,...</td>\n",
              "    </tr>\n",
              "    <tr>\n",
              "      <th>2</th>\n",
              "      <td>Bolo de Chocolate Molhadinho</td>\n",
              "      <td>[leite, ovo, margarina, açúcar, chocolate pó, ...</td>\n",
              "    </tr>\n",
              "    <tr>\n",
              "      <th>3</th>\n",
              "      <td>Como Fazer Bolinho de Chuva</td>\n",
              "      <td>[fermento químico pó, farinha trigo, ovo, leit...</td>\n",
              "    </tr>\n",
              "    <tr>\n",
              "      <th>4</th>\n",
              "      <td>Bolo de Fubá</td>\n",
              "      <td>[fubá, farinha trigo, óleo milho, leite, açúca...</td>\n",
              "    </tr>\n",
              "    <tr>\n",
              "      <th>5</th>\n",
              "      <td>Bolo de Milho</td>\n",
              "      <td>[milho conserva, ovo, fubá, açúcar, leite, óle...</td>\n",
              "    </tr>\n",
              "    <tr>\n",
              "      <th>6</th>\n",
              "      <td>Fricassê de Frango</td>\n",
              "      <td>[peito frango, óleo soja, sal, pimenta reino, ...</td>\n",
              "    </tr>\n",
              "    <tr>\n",
              "      <th>7</th>\n",
              "      <td>Bolo de Aniversário</td>\n",
              "      <td>[ovo, açúcar, farinha trigo, leite, manteiga, ...</td>\n",
              "    </tr>\n",
              "    <tr>\n",
              "      <th>8</th>\n",
              "      <td>Bolo de Banana</td>\n",
              "      <td>[banana nanica, ovo, farinha trigo, amido milh...</td>\n",
              "    </tr>\n",
              "    <tr>\n",
              "      <th>9</th>\n",
              "      <td>Panquecas</td>\n",
              "      <td>[farinha trigo, leite, amido milho, ovo, sal, ...</td>\n",
              "    </tr>\n",
              "  </tbody>\n",
              "</table>\n",
              "</div>"
            ],
            "text/plain": [
              "                        Receita  \\\n",
              "0                Massa de Pizza   \n",
              "1    Receita de Bolo de Cenoura   \n",
              "2  Bolo de Chocolate Molhadinho   \n",
              "3   Como Fazer Bolinho de Chuva   \n",
              "4                  Bolo de Fubá   \n",
              "5                 Bolo de Milho   \n",
              "6            Fricassê de Frango   \n",
              "7           Bolo de Aniversário   \n",
              "8                Bolo de Banana   \n",
              "9                     Panquecas   \n",
              "\n",
              "                                        Ingredientes  \n",
              "0  [farinha trigo, água, fermento biológico, óleo...  \n",
              "1  [sal, cenoura, óleo soja, fermento químico pó,...  \n",
              "2  [leite, ovo, margarina, açúcar, chocolate pó, ...  \n",
              "3  [fermento químico pó, farinha trigo, ovo, leit...  \n",
              "4  [fubá, farinha trigo, óleo milho, leite, açúca...  \n",
              "5  [milho conserva, ovo, fubá, açúcar, leite, óle...  \n",
              "6  [peito frango, óleo soja, sal, pimenta reino, ...  \n",
              "7  [ovo, açúcar, farinha trigo, leite, manteiga, ...  \n",
              "8  [banana nanica, ovo, farinha trigo, amido milh...  \n",
              "9  [farinha trigo, leite, amido milho, ovo, sal, ...  "
            ]
          },
          "execution_count": 26,
          "metadata": {},
          "output_type": "execute_result"
        }
      ],
      "source": [
        "df.head(10)"
      ]
    },
    {
      "cell_type": "code",
      "execution_count": null,
      "metadata": {
        "id": "F0uT1ULTAPhP"
      },
      "outputs": [],
      "source": [
        "# df.to_csv('ingredientes_parciais.csv')"
      ]
    },
    {
      "cell_type": "markdown",
      "metadata": {
        "id": "XF40Egv0DXJe"
      },
      "source": [
        "<h2>Todos os ingredientes</h2>"
      ]
    },
    {
      "cell_type": "code",
      "execution_count": null,
      "metadata": {
        "id": "dXDOPtwZDas_"
      },
      "outputs": [],
      "source": [
        "# Está imprimindo cada palavra separadamente\n",
        "# all_ingredients = set()\n",
        "# for ingredients_list in df['Ingredientes']:\n",
        "#     for ingredient in ingredients_list:\n",
        "#         all_ingredients.update(ingredient.split())\n",
        "\n",
        "# print(\"Todos os ingredientes presentes no DataFrame:\")\n",
        "# print(sorted(all_ingredients))"
      ]
    },
    {
      "cell_type": "code",
      "execution_count": null,
      "metadata": {
        "colab": {
          "base_uri": "https://localhost:8080/"
        },
        "id": "J-qFty3mDm3R",
        "outputId": "4db288f4-8bab-4f1b-c629-033716a81848"
      },
      "outputs": [],
      "source": [
        "all_ingredients = set()\n",
        "for ingredients_list in df['Ingredientes']:\n",
        "    all_ingredients.update(ingredients_list)\n",
        "\n",
        "ingredients_df = pd.DataFrame(all_ingredients, columns=['Ingrediente'])\n",
        "ingredients_df.to_csv('todos_ingredientes.csv')"
      ]
    }
  ],
  "metadata": {
    "accelerator": "GPU",
    "colab": {
      "gpuType": "T4",
      "provenance": []
    },
    "kernelspec": {
      "display_name": "Python 3",
      "name": "python3"
    },
    "language_info": {
      "codemirror_mode": {
        "name": "ipython",
        "version": 3
      },
      "file_extension": ".py",
      "mimetype": "text/x-python",
      "name": "python",
      "nbconvert_exporter": "python",
      "pygments_lexer": "ipython3",
      "version": "3.11.9"
    }
  },
  "nbformat": 4,
  "nbformat_minor": 0
}
