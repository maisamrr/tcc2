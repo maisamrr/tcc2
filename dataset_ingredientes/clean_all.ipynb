{
 "cells": [
  {
   "cell_type": "code",
   "execution_count": null,
   "metadata": {},
   "outputs": [],
   "source": [
    "import pandas as pd\n",
    "from fuzzywuzzy import process\n",
    "from collections import defaultdict"
   ]
  },
  {
   "cell_type": "code",
   "execution_count": null,
   "metadata": {},
   "outputs": [],
   "source": [
    "file_path = '/mnt/data/all_ingredients.csv'\n",
    "ingredients_df = pd.read_csv(file_path)\n",
    "ingredients_df.dropna(inplace=True)\n",
    "\n",
    "ingredients_df.head()"
   ]
  },
  {
   "cell_type": "markdown",
   "metadata": {},
   "source": [
    "Para tratar as variações dos ingredientes, como \"abacate médio\" e \"abacate tipo avocado\", iremos agrupa-las sob um termo único como \"abacate\".\n",
    "\n",
    "Para isso, podemos utilizar o algoritmo de distância de Levenshtein para identificar ingredientes semelhantes e decidir um nome padrão. Vamos começar por listar as variações mais comuns para cada grupo principal de ingredientes:"
   ]
  },
  {
   "cell_type": "code",
   "execution_count": null,
   "metadata": {},
   "outputs": [],
   "source": [
    "# Agrupar ingredientes semelhantes usando a distância de Levenshtein\n",
    "def group_similar_ingredients(ingredient_list, similarity_threshold=85):\n",
    "    # Dicionário para armazenar os grupos de ingredientes\n",
    "    ingredient_groups = defaultdict(list)\n",
    "    \n",
    "    # Lista já processada\n",
    "    processed = set()\n",
    "    \n",
    "    # Agrupar ingredientes semelhantes\n",
    "    for ingredient in ingredient_list:\n",
    "        if ingredient in processed:\n",
    "            continue\n",
    "        # Encontrar todos os ingredientes semelhantes\n",
    "        matches = process.extract(ingredient, ingredient_list, limit=None, scorer=fuzz.token_sort_ratio)\n",
    "        similar = [match[0] for match in matches if match[1] >= similarity_threshold]\n",
    "        # Adicionar ao dicionário de grupos\n",
    "        ingredient_groups[ingredient].extend(similar)\n",
    "        # Marcar como processados\n",
    "        processed.update(similar)\n",
    "        \n",
    "    return ingredient_groups\n",
    "\n",
    "# Agrupar ingredientes\n",
    "ingredient_list = ingredients_df['Ingrediente'].unique()\n",
    "ingredient_groups = group_similar_ingredients(ingredient_list)\n",
    "\n",
    "# Mostrar alguns grupos de exemplo\n",
    "example_groups = {k: v for k, v in list(ingredient_groups.items())[:10]}\n",
    "example_groups\n"
   ]
  },
  {
   "cell_type": "markdown",
   "metadata": {},
   "source": [
    "Parece que ocorreu um erro por não ter importado o módulo fuzz corretamente. Vou corrigir isso e executar novamente o código para agrupar os ingredientes semelhantes. Vamos tentar novamente: "
   ]
  },
  {
   "cell_type": "code",
   "execution_count": null,
   "metadata": {},
   "outputs": [],
   "source": [
    "from fuzzywuzzy import fuzz\n",
    "\n",
    "# Corrigir a função de agrupamento com a importação correta e executar novamente\n",
    "ingredient_groups = group_similar_ingredients(ingredient_list)\n",
    "\n",
    "# Mostrar alguns grupos de exemplo\n",
    "example_groups = {k: v for k, v in list(ingredient_groups.items())[:10]}\n",
    "example_groups\n"
   ]
  },
  {
   "cell_type": "markdown",
   "metadata": {},
   "source": [
    "O processo de agrupamento de ingredientes semelhantes levou mais tempo do que o esperado e acabou sendo interrompido. Vamos tentar uma abordagem diferente que possa ser mais eficiente.\n",
    "\n",
    "Uma possível solução é reduzir o número de comparações usando uma pré-seleção dos ingredientes mais comuns e depois agrupar apenas os menos comuns em torno desses centros. Isso pode ser feito utilizando uma análise de frequência para identificar os ingredientes mais comuns e agrupar os similares a estes."
   ]
  },
  {
   "cell_type": "code",
   "execution_count": null,
   "metadata": {},
   "outputs": [],
   "source": [
    "# Calcular a frequência de cada ingrediente\n",
    "ingredient_counts = ingredients_df['Ingrediente'].value_counts()\n",
    "\n",
    "# Selecionar os ingredientes mais comuns como centros de agrupamento\n",
    "common_ingredients = ingredient_counts[ingredient_counts > 5].index.tolist()  # Ajustar o limiar conforme necessário\n",
    "\n",
    "# Função para agrupar em torno de centros comuns\n",
    "def group_around_commons(ingredient_list, common_centers, similarity_threshold=85):\n",
    "    grouped_ingredients = defaultdict(list)\n",
    "    \n",
    "    # Agrupar em torno dos centros comuns\n",
    "    for ingredient in ingredient_list:\n",
    "        # Encontrar o centro comum mais similar\n",
    "        match = process.extractOne(ingredient, common_centers, scorer=fuzz.token_sort_ratio)\n",
    "        if match and match[1] >= similarity_threshold:\n",
    "            grouped_ingredients[match[0]].append(ingredient)\n",
    "        else:\n",
    "            # Se nenhum centro comum for suficientemente similar, manter o ingrediente sozinho\n",
    "            grouped_ingredients[ingredient].append(ingredient)\n",
    "            \n",
    "    return grouped_ingredients\n",
    "\n",
    "# Aplicar a função de agrupamento\n",
    "grouped_ingredients = group_around_commons(ingredient_list, common_ingredients)\n",
    "\n",
    "# Mostrar alguns grupos de exemplo\n",
    "example_grouped_ingredients = {k: v for k, v in list(grouped_ingredients.items())[:10]}\n",
    "example_grouped_ingredients\n"
   ]
  },
  {
   "cell_type": "markdown",
   "metadata": {},
   "source": [
    "Consegui agrupar alguns ingredientes em torno dos centros comuns, mas parece que ainda precisamos ajustar o limiar de similaridade para conseguir agrupamentos mais eficazes. Atualmente, muitos ingredientes permanecem sozinhos mesmo quando poderiam ser agrupados sob um termo mais geral.\n",
    "\n",
    "Podemos ajustar o limiar de similaridade para tentar agrupar mais ingredientes ou considerar uma abordagem mais sofisticada, como técnicas de processamento (...)?"
   ]
  },
  {
   "cell_type": "markdown",
   "metadata": {},
   "source": []
  }
 ],
 "metadata": {
  "language_info": {
   "name": "python"
  }
 },
 "nbformat": 4,
 "nbformat_minor": 2
}
