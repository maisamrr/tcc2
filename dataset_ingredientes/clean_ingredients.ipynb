{
 "cells": [
  {
   "cell_type": "code",
   "execution_count": 43,
   "metadata": {},
   "outputs": [],
   "source": [
    "import re\n",
    "import nltk\n",
    "import pandas as pd\n",
    "from collections import Counter\n",
    "from nltk.corpus import wordnet\n",
    "from nltk.corpus import stopwords\n",
    "from nltk.tokenize import word_tokenize\n",
    "from nltk.stem import WordNetLemmatizer"
   ]
  },
  {
   "cell_type": "code",
   "execution_count": null,
   "metadata": {},
   "outputs": [],
   "source": [
    "file = 'receitinhas.csv'\n",
    "df = pd.read_csv(file, index_col=0)\n",
    "\n",
    "print(df)"
   ]
  },
  {
   "cell_type": "code",
   "execution_count": null,
   "metadata": {},
   "outputs": [],
   "source": [
    "df.dtypes"
   ]
  },
  {
   "cell_type": "markdown",
   "metadata": {},
   "source": [
    "<h2>Limpeza</h2>"
   ]
  },
  {
   "cell_type": "code",
   "execution_count": 40,
   "metadata": {},
   "outputs": [
    {
     "name": "stderr",
     "output_type": "stream",
     "text": [
      "[nltk_data] Downloading package punkt to\n",
      "[nltk_data]     /Users/maisamoreira/nltk_data...\n",
      "[nltk_data]   Package punkt is already up-to-date!\n",
      "[nltk_data] Downloading package wordnet to\n",
      "[nltk_data]     /Users/maisamoreira/nltk_data...\n",
      "[nltk_data]   Package wordnet is already up-to-date!\n",
      "[nltk_data] Downloading package omw-1.4 to\n",
      "[nltk_data]     /Users/maisamoreira/nltk_data...\n",
      "[nltk_data]   Package omw-1.4 is already up-to-date!\n",
      "[nltk_data] Downloading package stopwords to\n",
      "[nltk_data]     /Users/maisamoreira/nltk_data...\n",
      "[nltk_data]   Package stopwords is already up-to-date!\n"
     ]
    },
    {
     "data": {
      "text/plain": [
       "True"
      ]
     },
     "execution_count": 40,
     "metadata": {},
     "output_type": "execute_result"
    }
   ],
   "source": [
    "nltk.download('punkt')\n",
    "nltk.download('wordnet')\n",
    "nltk.download('omw-1.4')\n",
    "nltk.download('stopwords')"
   ]
  },
  {
   "cell_type": "code",
   "execution_count": null,
   "metadata": {},
   "outputs": [],
   "source": [
    "def clean_ingredients(ingredients_text):\n",
    "    ingredients_text = re.sub(r\"[\\{\\}]\", \"\", ingredients_text).strip()\n",
    "    ingredients_list = [item.strip() for item in ingredients_text.split(',')]\n",
    "    return ingredients_list"
   ]
  },
  {
   "cell_type": "code",
   "execution_count": null,
   "metadata": {},
   "outputs": [],
   "source": [
    "df['Ingredientes'] = df['Ingredientes'].apply(clean_ingredients)\n",
    "print(df)"
   ]
  },
  {
   "cell_type": "markdown",
   "metadata": {},
   "source": [
    "Removendo números"
   ]
  },
  {
   "cell_type": "code",
   "execution_count": null,
   "metadata": {},
   "outputs": [],
   "source": [
    "def remove_numbers(text):\n",
    "    return re.sub(r'\\d', '', str(text))\n",
    "\n",
    "def clean_numbers(text):\n",
    "    try:\n",
    "        ingredients_list = eval(text)\n",
    "        if isinstance(ingredients_list, list):\n",
    "            return [remove_numbers(item) for item in ingredients_list]\n",
    "    except:\n",
    "        return remove_numbers(text)\n",
    "    return text\n",
    "\n",
    "df['Ingredientes'] = df['Ingredientes'].apply(clean_numbers)"
   ]
  },
  {
   "cell_type": "code",
   "execution_count": null,
   "metadata": {},
   "outputs": [],
   "source": [
    "print(df)"
   ]
  },
  {
   "cell_type": "markdown",
   "metadata": {},
   "source": [
    "Todas as letras em minúsculas"
   ]
  },
  {
   "cell_type": "code",
   "execution_count": 14,
   "metadata": {},
   "outputs": [],
   "source": [
    "def convert_lowercase(text):\n",
    "    try:\n",
    "        ingredients_list = eval(text)\n",
    "        if isinstance(ingredients_list, list):\n",
    "            return [str(item).lower() for item in ingredients_list]\n",
    "    except:\n",
    "        return str(text).lower()\n",
    "    return text\n",
    "\n",
    "df['Ingredientes'] = df['Ingredientes'].apply(convert_lowercase)"
   ]
  },
  {
   "cell_type": "code",
   "execution_count": 15,
   "metadata": {},
   "outputs": [
    {
     "name": "stdout",
     "output_type": "stream",
     "text": [
      "                                     Receita  \\\n",
      "0                             Massa de Pizza   \n",
      "1                 Receita de Bolo de Cenoura   \n",
      "2               Bolo de Chocolate Molhadinho   \n",
      "3                Como Fazer Bolinho de Chuva   \n",
      "4                               Bolo de Fubá   \n",
      "5                              Bolo de Milho   \n",
      "6                         Fricassê de Frango   \n",
      "7                        Bolo de Aniversário   \n",
      "8                             Bolo de Banana   \n",
      "9                                  Panquecas   \n",
      "10                 Pudim de Leite Condensado   \n",
      "11                   Torta de Liquidificador   \n",
      "12                           Cuscuz Paulista   \n",
      "13                       Pãozinho de Cenoura   \n",
      "14  Pão Integral Caseiro com Aveia e Linhaça   \n",
      "15                    Pão Estrela de Nutella   \n",
      "16                  Bolo Prestígio Econômico   \n",
      "17                            Muffin de Maçã   \n",
      "18     Bolo de Cenoura Fofinho com Cobertura   \n",
      "19             Torta de Rúcula e Tomate Seco   \n",
      "20             Quiche de Salmão com Brócolis   \n",
      "21  Empadão de Massa Podre Delicioso e Fácil   \n",
      "22                          Crepe de Nutella   \n",
      "23              Torta Trufada de Leite Ninho   \n",
      "24                            Gelado de Oreo   \n",
      "25                           Cebola Empanada   \n",
      "26                   Massa de Coxinha Rápida   \n",
      "27                    Hambúrguer de Linguiça   \n",
      "28               Suflê de Batata com Queijos   \n",
      "29                        Salada de Macarrão   \n",
      "30                Tomate Recheado com Ricota   \n",
      "31                        Geleia de Morangos   \n",
      "32                   Doce de Leite Argentino   \n",
      "33                  Doce de Abóbora com Coco   \n",
      "34                        Chips de Provolone   \n",
      "35                  Chips de Banana-da-terra   \n",
      "36               Chips de Abobrinha ao Forno   \n",
      "37                     Nhoque de Batata Doce   \n",
      "38                                  Panqueca   \n",
      "39                       Massa com Espinafre   \n",
      "40                          Tiramissú Rápido   \n",
      "41                       Tortinha de Morango   \n",
      "42     Torta Cremosa de Amendoim e Chocolate   \n",
      "43                               Molho Pesto   \n",
      "44               Molho Bolonhesa Vegetariano   \n",
      "45                        Bauru de Assadeira   \n",
      "46                    Esfiha Aberta de Carne   \n",
      "47              Receita de Bolo de Chocolate   \n",
      "48                 Bolo de Chocolate Simples   \n",
      "49                               Pão Caseiro   \n",
      "\n",
      "                                         Ingredientes  \n",
      "0   ['/ kg de farinha de trigo', ' copo de água', ...  \n",
      "1   [' pitada de sal', ' unidades de cenoura média...  \n",
      "2   [' xícara (chá) de leite', ' unidades de ovo',...  \n",
      "3   [' colher (sopa) de fermento químico em pó', '...  \n",
      "4   [' copos de fubá', ' copo de farinha de trigo'...  \n",
      "5   [' lata de milho em conserva', ' unidades de o...  \n",
      "6   [' gr de peito de frango cozido e desfiado', '...  \n",
      "7   [' unidades de ovo', ' xícaras (chá) de açúcar...  \n",
      "8   [' unidades de banana nanica', ' unidades de o...  \n",
      "9   [' copo de farinha de trigo', ' copo de leite'...  \n",
      "10  [' unidades de ovo', ' latas de leite condensa...  \n",
      "11  [' copo de óleo de soja', ' copos de farinha d...  \n",
      "12  [' / xícaras (chá) de farinha de milho amarela...  \n",
      "13  [' unidades de cenoura grande', ' unidades de ...  \n",
      "14  [' ml de água morna', ' gr de fermento biológi...  \n",
      "15  [' unidades de ovo', ' colheres (sobremesa) de...  \n",
      "16  [' unidades de ovo', ' xícaras (chá) de farinh...  \n",
      "17  [' unidades de maçã sem casca', 'suco de limão...  \n",
      "18  ['/ xícara (chá) de amido de milho', ' / xícar...  \n",
      "19  [' colher (sopa) de fermento químico em pó', '...  \n",
      "20  [' gr de farinha de trigo peneirada', ' gr de ...  \n",
      "21  [' xícaras (chá) de farinha de trigo', ' unida...  \n",
      "22  [' copo de farinha de trigo', ' unidades de ov...  \n",
      "23  [' / pacotes de biscoito maisena triturado (gr...  \n",
      "24  [' pacote de biscoito de chocolate com recheio...  \n",
      "25  [' ml de leite', ' xícaras (chá) de farinha de...  \n",
      "26  [' xícaras (chá) de água', '/ xícara (chá) de ...  \n",
      "27  ['sal e pimenta a gosto', ' unidade de ovo', '...  \n",
      "28  [' gr de batata', '/ xícara (chá) de leite', '...  \n",
      "29  [' colheres (sopa) de maionese', ' xícara (chá...  \n",
      "30  [' unidades de tomate maduro(s)', 'queijo rala...  \n",
      "31  [' xícaras (chá) de açúcar cristal orgânico', ...  \n",
      "32  [' litros de leite', ' gr de açúcar', ' gr de ...  \n",
      "33  [' kg de abóbora moranga', ' gr de açúcar', ' ...  \n",
      "34  [' gr de provolone', ' colher (café) de orégan...  \n",
      "35  ['óleo de girassol para fritar a gosto', ' uni...  \n",
      "36  [' gr de farinha de rosca', ' gr de queijo ral...  \n",
      "37  [' gr de batata-doce', ' unidades de ovo', ' x...  \n",
      "38  [' copo de farinha de trigo', ' copo de leite'...  \n",
      "39  [' gr de farfalle', ' maço de espinafre', ' co...  \n",
      "40  ['/ xícara (chá) de café forte', '/ xícara (ch...  \n",
      "41  [' gr de farinha de trigo especial', ' gr de a...  \n",
      "42  [' pacote de biscoito maisena', '/ xícara (chá...  \n",
      "43  [' gr de pinolis', ' dentes de alho', ' gr de ...  \n",
      "44  [' gr de hamburguer vegetal mix jasmine moído'...  \n",
      "45  ['margarina e farinha de trigo para untar a go...  \n",
      "46  [' tablete de fermento biológico fresco', ' ml...  \n",
      "47  [' xícaras (chá) de farinha de trigo', ' colhe...  \n",
      "48  [' xícara (chá) de leite', ' xícara (chá) de ó...  \n",
      "49  [' ml de água', ' kg de farinha de trigo', ' u...  \n"
     ]
    }
   ],
   "source": [
    "print(df)"
   ]
  },
  {
   "cell_type": "code",
   "execution_count": null,
   "metadata": {},
   "outputs": [],
   "source": [
    "# def identify_nouns(ingredient):\n",
    "#     if pd.isna(ingredient):\n",
    "#         return ingredient\n",
    "#     doc = nlp(str(ingredient))\n",
    "#     nouns = [token.text for token in doc if token.pos_ in ('NOUN', 'PROPN')]\n",
    "#     return ' '.join(nouns)\n",
    "\n",
    "# df_final = apply_in_all_dataset(df_final, identify_nouns)"
   ]
  },
  {
   "cell_type": "markdown",
   "metadata": {},
   "source": [
    "Remover palavras de medidas e stopwords"
   ]
  },
  {
   "cell_type": "code",
   "execution_count": 35,
   "metadata": {},
   "outputs": [],
   "source": [
    "\n",
    "stop_words = set(stopwords.words('portuguese'))\n",
    "\n",
    "def clean_measurements_and_stopwords(ingredients):\n",
    "    cleaned_ingredients = []\n",
    "    for item in ingredients:\n",
    "        # incluir café?\n",
    "        item = re.sub(r\"\\d+|\\([^)]*\\)|\\\\|/|\\b(bem|bola|bolas|caixa|caixas|caixinha|caixinhas|chá|colher|colheres|copo|copos|cozida|cozidas|cozido|cozidos|crua|cruas|decorar|dente|dentes|desfiado|desfiados|envelope|envelopes|fatia|fatias|forte|gosto|grosso|grossa|\\bgr\\b|grs|grama|gramas|kg|kgs|lactose|lata|latas|litro|litros|maço|maços|magro|média|médias|ml|mls|mililitro|mililitros|morno|orgânico|orgânicos|pacote|pacotes|peneirada|peneiradas|picado|picados|picada|picadas|picadinha|picadinhas|pincelar|pitada|pitadas|polvilhar|quilo|quilos|raspa|raspas|refogar|rodela|rodelas|sobremesa|sopa|sopas|tablete|tabletes|unidade|unidades|xícara|xícaras|zero)\\b\", \"\", item)\n",
    "        item = item.replace('-', ' ')\n",
    "        \n",
    "        tokens = [word for word in item.split() if word not in stop_words]\n",
    "        cleaned_ingredients.append(\" \".join(tokens))\n",
    "    \n",
    "    return cleaned_ingredients\n",
    "\n",
    "df['Ingredientes'] = df['Ingredientes'].apply(clean_measurements_and_stopwords)"
   ]
  },
  {
   "cell_type": "code",
   "execution_count": 46,
   "metadata": {},
   "outputs": [
    {
     "name": "stdout",
     "output_type": "stream",
     "text": [
      "                                     Receita  \\\n",
      "0                             Massa de Pizza   \n",
      "1                 Receita de Bolo de Cenoura   \n",
      "2               Bolo de Chocolate Molhadinho   \n",
      "3                Como Fazer Bolinho de Chuva   \n",
      "4                               Bolo de Fubá   \n",
      "5                              Bolo de Milho   \n",
      "6                         Fricassê de Frango   \n",
      "7                        Bolo de Aniversário   \n",
      "8                             Bolo de Banana   \n",
      "9                                  Panquecas   \n",
      "10                 Pudim de Leite Condensado   \n",
      "11                   Torta de Liquidificador   \n",
      "12                           Cuscuz Paulista   \n",
      "13                       Pãozinho de Cenoura   \n",
      "14  Pão Integral Caseiro com Aveia e Linhaça   \n",
      "15                    Pão Estrela de Nutella   \n",
      "16                  Bolo Prestígio Econômico   \n",
      "17                            Muffin de Maçã   \n",
      "18     Bolo de Cenoura Fofinho com Cobertura   \n",
      "19             Torta de Rúcula e Tomate Seco   \n",
      "20             Quiche de Salmão com Brócolis   \n",
      "21  Empadão de Massa Podre Delicioso e Fácil   \n",
      "22                          Crepe de Nutella   \n",
      "23              Torta Trufada de Leite Ninho   \n",
      "24                            Gelado de Oreo   \n",
      "25                           Cebola Empanada   \n",
      "26                   Massa de Coxinha Rápida   \n",
      "27                    Hambúrguer de Linguiça   \n",
      "28               Suflê de Batata com Queijos   \n",
      "29                        Salada de Macarrão   \n",
      "30                Tomate Recheado com Ricota   \n",
      "31                        Geleia de Morangos   \n",
      "32                   Doce de Leite Argentino   \n",
      "33                  Doce de Abóbora com Coco   \n",
      "34                        Chips de Provolone   \n",
      "35                  Chips de Banana-da-terra   \n",
      "36               Chips de Abobrinha ao Forno   \n",
      "37                     Nhoque de Batata Doce   \n",
      "38                                  Panqueca   \n",
      "39                       Massa com Espinafre   \n",
      "40                          Tiramissú Rápido   \n",
      "41                       Tortinha de Morango   \n",
      "42     Torta Cremosa de Amendoim e Chocolate   \n",
      "43                               Molho Pesto   \n",
      "44               Molho Bolonhesa Vegetariano   \n",
      "45                        Bauru de Assadeira   \n",
      "46                    Esfiha Aberta de Carne   \n",
      "47              Receita de Bolo de Chocolate   \n",
      "48                 Bolo de Chocolate Simples   \n",
      "49                               Pão Caseiro   \n",
      "\n",
      "                                         Ingredientes  \n",
      "0   [' farinha trigo ', ' água ', ' fermento bioló...  \n",
      "1   [' sal ', ' cenoura ', ' óleo soja ', ' fermen...  \n",
      "2   [' leite ', ' ovo ', ' margarina ', ' açúcar '...  \n",
      "3   [' fermento químico pó ', ' farinha trigo ', '...  \n",
      "4   [' fubá ', ' farinha trigo ', ' óleo milho ', ...  \n",
      "5   [' milho conserva ', ' ovo ', ' fubá ', ' açúc...  \n",
      "6   [' peito frango ', ' óleo soja ', 'sal ', 'pim...  \n",
      "7   [' ovo ', ' açúcar ', ' farinha trigo ', ' lei...  \n",
      "8   [' banana nanica ', ' ovo ', ' farinha trigo '...  \n",
      "9   [' farinha trigo ', ' leite ', ' amido milho '...  \n",
      "10  [' ovo ', ' leite condensado ', ' leite ', ' a...  \n",
      "11  [' óleo soja ', ' farinha trigo ', ' fermento ...  \n",
      "12  [' farinha milho amarela ', ' milho conserva '...  \n",
      "13  [' cenoura grande ', ' ovo ', ' margarina ', '...  \n",
      "14  [' água morna ', ' fermento biológico fresco '...  \n",
      "15  [' ovo ', ' açúcar ', ' fermento biológico fre...  \n",
      "16  [' ovo ', ' farinha trigo ', ' açúcar ', ' lei...  \n",
      "17  [' maçã casca ', 'suco limão ', ' farinha trig...  \n",
      "18  [' amido milho ', ' açúcar ', ' farinha trigo ...  \n",
      "19  [' fermento químico pó ', ' ovo ', ' leite ', ...  \n",
      "20  [' farinha trigo ', ' sal ', ' manteiga sal ge...  \n",
      "21  [' farinha trigo ', ' gema ovo ', ' óleo giras...  \n",
      "22  [' farinha trigo ', ' ovo ', ' leite ', ' sal ...  \n",
      "23  [' biscoito maisena triturado ', ' manteiga ',...  \n",
      "24  [' biscoito chocolate recheio baunilha oreo ',...  \n",
      "25  [' leite ', ' farinha rosca ', ' farinha trigo...  \n",
      "26  [' água ', ' óleo soja ', ' caldo galinha ', '...  \n",
      "27  ['sal pimenta ', ' ovo ', ' pão branco embebid...  \n",
      "28  [' batata ', ' leite ', ' fermento químico pó ...  \n",
      "29  [' maionese ', ' presunto ', ' azeite ', ' far...  \n",
      "30  [' tomate maduro ', 'queijo ralado ', ' ricota...  \n",
      "31        [' açúcar cristal ', ' morango ', 'limão ']  \n",
      "32  [' leite ', ' açúcar ', ' bicarbonato sódio ',...  \n",
      "33  [' abóbora moranga ', ' açúcar ', ' coco ralad...  \n",
      "34  [' provolone ', ' orégano ', ' sal ', ' cúrcum...  \n",
      "35  ['óleo girassol fritar ', ' banana terra verde...  \n",
      "36  [' farinha rosca ', ' queijo ralado ', ' sal '...  \n",
      "37      [' batata doce ', ' ovo ', ' farinha trigo ']  \n",
      "38  [' farinha trigo ', ' leite ', ' ovo ', 'sal '...  \n",
      "39  [' farfalle ', ' espinafre ', ' parmesão ', ' ...  \n",
      "40  [' café ', ' rum ', ' biscoito champagne ', ' ...  \n",
      "41  [' farinha trigo especial ', ' açúcar ', ' mar...  \n",
      "42  [' biscoito maisena ', ' amendoim tostado casc...  \n",
      "43  [' pinolis ', ' alho ', ' manjericão ', ' parm...  \n",
      "44  [' hamburguer vegetal mix jasmine moído ', ' p...  \n",
      "45  ['margarina farinha trigo untar ', ' margarina...  \n",
      "46  [' fermento biológico fresco ', ' água ', ' ól...  \n",
      "47  [' farinha trigo ', ' fermento químico pó ', '...  \n",
      "48  [' leite ', ' óleo soja ', ' ovo ', ' farinha ...  \n",
      "49  [' água ', ' farinha trigo ', ' ovo ', ' ferme...  \n"
     ]
    }
   ],
   "source": [
    "print(df)"
   ]
  },
  {
   "cell_type": "code",
   "execution_count": 47,
   "metadata": {},
   "outputs": [],
   "source": [
    "df.to_csv('ingredientes_parciais.csv')"
   ]
  },
  {
   "cell_type": "markdown",
   "metadata": {},
   "source": [
    "Lematização"
   ]
  },
  {
   "cell_type": "code",
   "execution_count": 48,
   "metadata": {},
   "outputs": [
    {
     "name": "stdout",
     "output_type": "stream",
     "text": [
      "                                     Receita  \\\n",
      "0                             Massa de Pizza   \n",
      "1                 Receita de Bolo de Cenoura   \n",
      "2               Bolo de Chocolate Molhadinho   \n",
      "3                Como Fazer Bolinho de Chuva   \n",
      "4                               Bolo de Fubá   \n",
      "5                              Bolo de Milho   \n",
      "6                         Fricassê de Frango   \n",
      "7                        Bolo de Aniversário   \n",
      "8                             Bolo de Banana   \n",
      "9                                  Panquecas   \n",
      "10                 Pudim de Leite Condensado   \n",
      "11                   Torta de Liquidificador   \n",
      "12                           Cuscuz Paulista   \n",
      "13                       Pãozinho de Cenoura   \n",
      "14  Pão Integral Caseiro com Aveia e Linhaça   \n",
      "15                    Pão Estrela de Nutella   \n",
      "16                  Bolo Prestígio Econômico   \n",
      "17                            Muffin de Maçã   \n",
      "18     Bolo de Cenoura Fofinho com Cobertura   \n",
      "19             Torta de Rúcula e Tomate Seco   \n",
      "20             Quiche de Salmão com Brócolis   \n",
      "21  Empadão de Massa Podre Delicioso e Fácil   \n",
      "22                          Crepe de Nutella   \n",
      "23              Torta Trufada de Leite Ninho   \n",
      "24                            Gelado de Oreo   \n",
      "25                           Cebola Empanada   \n",
      "26                   Massa de Coxinha Rápida   \n",
      "27                    Hambúrguer de Linguiça   \n",
      "28               Suflê de Batata com Queijos   \n",
      "29                        Salada de Macarrão   \n",
      "30                Tomate Recheado com Ricota   \n",
      "31                        Geleia de Morangos   \n",
      "32                   Doce de Leite Argentino   \n",
      "33                  Doce de Abóbora com Coco   \n",
      "34                        Chips de Provolone   \n",
      "35                  Chips de Banana-da-terra   \n",
      "36               Chips de Abobrinha ao Forno   \n",
      "37                     Nhoque de Batata Doce   \n",
      "38                                  Panqueca   \n",
      "39                       Massa com Espinafre   \n",
      "40                          Tiramissú Rápido   \n",
      "41                       Tortinha de Morango   \n",
      "42     Torta Cremosa de Amendoim e Chocolate   \n",
      "43                               Molho Pesto   \n",
      "44               Molho Bolonhesa Vegetariano   \n",
      "45                        Bauru de Assadeira   \n",
      "46                    Esfiha Aberta de Carne   \n",
      "47              Receita de Bolo de Chocolate   \n",
      "48                 Bolo de Chocolate Simples   \n",
      "49                               Pão Caseiro   \n",
      "\n",
      "                                         Ingredientes  \n",
      "0   [' farinha trigo ', ' água ', ' fermento bioló...  \n",
      "1   [' sal ', ' cenoura ', ' óleo soja ', ' fermen...  \n",
      "2   [' leite ', ' ovo ', ' margarina ', ' açúcar '...  \n",
      "3   [' fermento químico pó ', ' farinha trigo ', '...  \n",
      "4   [' fubá ', ' farinha trigo ', ' óleo milho ', ...  \n",
      "5   [' milho conserva ', ' ovo ', ' fubá ', ' açúc...  \n",
      "6   [' peito frango ', ' óleo soja ', 'sal ', 'pim...  \n",
      "7   [' ovo ', ' açúcar ', ' farinha trigo ', ' lei...  \n",
      "8   [' banana nanica ', ' ovo ', ' farinha trigo '...  \n",
      "9   [' farinha trigo ', ' leite ', ' amido milho '...  \n",
      "10  [' ovo ', ' leite condensado ', ' leite ', ' a...  \n",
      "11  [' óleo soja ', ' farinha trigo ', ' fermento ...  \n",
      "12  [' farinha milho amarela ', ' milho conserva '...  \n",
      "13  [' cenoura grande ', ' ovo ', ' margarina ', '...  \n",
      "14  [' água morna ', ' fermento biológico fresco '...  \n",
      "15  [' ovo ', ' açúcar ', ' fermento biológico fre...  \n",
      "16  [' ovo ', ' farinha trigo ', ' açúcar ', ' lei...  \n",
      "17  [' maçã casca ', 'suco limão ', ' farinha trig...  \n",
      "18  [' amido milho ', ' açúcar ', ' farinha trigo ...  \n",
      "19  [' fermento químico pó ', ' ovo ', ' leite ', ...  \n",
      "20  [' farinha trigo ', ' sal ', ' manteiga sal ge...  \n",
      "21  [' farinha trigo ', ' gema ovo ', ' óleo giras...  \n",
      "22  [' farinha trigo ', ' ovo ', ' leite ', ' sal ...  \n",
      "23  [' biscoito maisena triturado ', ' manteiga ',...  \n",
      "24  [' biscoito chocolate recheio baunilha oreo ',...  \n",
      "25  [' leite ', ' farinha rosca ', ' farinha trigo...  \n",
      "26  [' água ', ' óleo soja ', ' caldo galinha ', '...  \n",
      "27  ['sal pimenta ', ' ovo ', ' pão branco embebid...  \n",
      "28  [' batata ', ' leite ', ' fermento químico pó ...  \n",
      "29  [' maionese ', ' presunto ', ' azeite ', ' far...  \n",
      "30  [' tomate maduro ', 'queijo ralado ', ' ricota...  \n",
      "31        [' açúcar cristal ', ' morango ', 'limão ']  \n",
      "32  [' leite ', ' açúcar ', ' bicarbonato sódio ',...  \n",
      "33  [' abóbora moranga ', ' açúcar ', ' coco ralad...  \n",
      "34  [' provolone ', ' orégano ', ' sal ', ' cúrcum...  \n",
      "35  ['óleo girassol fritar ', ' banana terra verde...  \n",
      "36  [' farinha rosca ', ' queijo ralado ', ' sal '...  \n",
      "37      [' batata doce ', ' ovo ', ' farinha trigo ']  \n",
      "38  [' farinha trigo ', ' leite ', ' ovo ', 'sal '...  \n",
      "39  [' farfalle ', ' espinafre ', ' parmesão ', ' ...  \n",
      "40  [' café ', ' rum ', ' biscoito champagne ', ' ...  \n",
      "41  [' farinha trigo especial ', ' açúcar ', ' mar...  \n",
      "42  [' biscoito maisena ', ' amendoim tostado casc...  \n",
      "43  [' pinolis ', ' alho ', ' manjericão ', ' parm...  \n",
      "44  [' hamburguer vegetal mix jasmine moído ', ' p...  \n",
      "45  ['margarina farinha trigo untar ', ' margarina...  \n",
      "46  [' fermento biológico fresco ', ' água ', ' ól...  \n",
      "47  [' farinha trigo ', ' fermento químico pó ', '...  \n",
      "48  [' leite ', ' óleo soja ', ' ovo ', ' farinha ...  \n",
      "49  [' água ', ' farinha trigo ', ' ovo ', ' ferme...  \n"
     ]
    }
   ],
   "source": [
    "lemmatizer = WordNetLemmatizer()\n",
    "\n",
    "def lemmatize_word(word):\n",
    "    return lemmatizer.lemmatize(word, wordnet.NOUN)\n",
    "\n",
    "def lemmatize_ingredients(ingredients):\n",
    "    lemmatized_ingredients = []\n",
    "    for item in ingredients:\n",
    "        tokens = word_tokenize(item)\n",
    "        lemmatized_tokens = [lemmatize_word(word.lower()) for word in tokens]\n",
    "        lemmatized_ingredients.append(\" \".join(lemmatized_tokens))\n",
    "    return lemmatized_ingredients\n",
    "\n",
    "df['Ingredientes'] = df['Ingredientes'].apply(lemmatize_ingredients)\n",
    "\n",
    "print(df)\n"
   ]
  },
  {
   "cell_type": "code",
   "execution_count": 49,
   "metadata": {},
   "outputs": [],
   "source": [
    "df.to_csv('ingredientes_parciais2.csv')"
   ]
  },
  {
   "cell_type": "markdown",
   "metadata": {},
   "source": [
    "<h2>Análise</h2>"
   ]
  },
  {
   "cell_type": "code",
   "execution_count": null,
   "metadata": {},
   "outputs": [],
   "source": [
    "def collect_words(df, columns):\n",
    "    all_words = []\n",
    "    for column in columns:\n",
    "        for text in df[column].dropna():\n",
    "            words= re.findall(r'\\b\\w+\\b', text.lower())\n",
    "            all_words.extend(words)\n",
    "    return all_words\n",
    "\n",
    "columns_ingredients = [col for col in df_final.columns if col.startswith('Ingredientes')]\n",
    "all_words_dataset = collect_words(df_final, columns_ingredients)\n",
    "\n",
    "count_words = Counter(all_words_dataset)\n",
    "\n",
    "print(count_words)  "
   ]
  }
 ],
 "metadata": {
  "kernelspec": {
   "display_name": "Python 3",
   "language": "python",
   "name": "python3"
  },
  "language_info": {
   "codemirror_mode": {
    "name": "ipython",
    "version": 3
   },
   "file_extension": ".py",
   "mimetype": "text/x-python",
   "name": "python",
   "nbconvert_exporter": "python",
   "pygments_lexer": "ipython3",
   "version": "3.11.6"
  }
 },
 "nbformat": 4,
 "nbformat_minor": 2
}
