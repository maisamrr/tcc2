{
 "cells": [
  {
   "cell_type": "code",
   "execution_count": null,
   "metadata": {},
   "outputs": [],
   "source": [
    "import pandas as pd"
   ]
  },
  {
   "cell_type": "code",
   "execution_count": null,
   "metadata": {},
   "outputs": [],
   "source": [
    "file = 'todas_receitas_porcoeslimpas.csv'\n",
    "df = pd.read_csv(file, usecols=['Receita', 'Ingredientes'], nrows=50)"
   ]
  },
  {
   "cell_type": "code",
   "execution_count": null,
   "metadata": {},
   "outputs": [],
   "source": [
    "print(df)\n",
    "df.to_csv('receitinhas.csv')"
   ]
  },
  {
   "cell_type": "code",
   "execution_count": null,
   "metadata": {},
   "outputs": [],
   "source": [
    "print(df['Ingredientes'].dtype)"
   ]
  },
  {
   "cell_type": "code",
   "execution_count": null,
   "metadata": {},
   "outputs": [],
   "source": [
    "# Extrair ingredientes em colunas separadas\n",
    "df_ingredientes = df['Ingredientes'].str.extractall(r\"'(.*?)'\").unstack()\n",
    "\n",
    "# Renomear as colunas para Ingredientes1, Ingredientes2, ...\n",
    "df_ingredientes.columns = [f'Ingredientes{i+1}' for i in range(df_ingredientes.shape[1])]\n",
    "\n",
    "# Juntar o DataFrame original com o DataFrame de ingredientes divididos\n",
    "df_final = pd.concat([df['Receita'], df_ingredientes], axis=1)\n",
    "\n",
    "print(df_final)"
   ]
  },
  {
   "cell_type": "code",
   "execution_count": null,
   "metadata": {},
   "outputs": [],
   "source": [
    "print(df_final['Ingredientes1'].dtype)"
   ]
  }
 ],
 "metadata": {
  "kernelspec": {
   "display_name": "Python 3",
   "language": "python",
   "name": "python3"
  },
  "language_info": {
   "codemirror_mode": {
    "name": "ipython",
    "version": 3
   },
   "file_extension": ".py",
   "mimetype": "text/x-python",
   "name": "python",
   "nbconvert_exporter": "python",
   "pygments_lexer": "ipython3",
   "version": "3.11.6"
  }
 },
 "nbformat": 4,
 "nbformat_minor": 2
}
